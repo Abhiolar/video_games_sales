{
 "cells": [
  {
   "cell_type": "markdown",
   "metadata": {
    "colab_type": "text",
    "id": "QL2T1pfWyl3t"
   },
   "source": [
    "What we need to be certain about in terms of the Revolut's goal and mission is that customer engagement and satisfaction is key. There are 4 tables that depict the users' attributes and their behaviour on the Revolut app.\n",
    "\n",
    "\n",
    "*   Devices of the users noting the brand of phone being used.\n",
    "*   users attributes which tells us more about attributes of each user and how which plan they are subscribed to.\n",
    "*   Notifications entail the characteristics of the notifications they recieve on the app.\n",
    "*   transactions gives us an inisght into how they use the app to manage their finances and make/recieve certain different kinds of payments/transfers.\n",
    "\n",
    "\n",
    "\n",
    "\n",
    "\n",
    "\n"
   ]
  },
  {
   "cell_type": "markdown",
   "metadata": {
    "colab_type": "text",
    "id": "uebjvd0m1MOs"
   },
   "source": [
    "The target metric chosen to measure user engagement on the Revolut app is the number of transactions each user has on the app. An engaged user would have lots of transactions on the platform and an unengaged user would have barely an transactions on the platform."
   ]
  },
  {
   "cell_type": "markdown",
   "metadata": {
    "colab_type": "text",
    "id": "9CgsYCOb6M8a"
   },
   "source": [
    "# LOADING THE CSV FILES AND LIBRARIES"
   ]
  },
  {
   "cell_type": "code",
   "execution_count": 0,
   "metadata": {
    "colab": {},
    "colab_type": "code",
    "id": "KKAgWsQuyhGU"
   },
   "outputs": [],
   "source": [
    "#load the data and import the necessary libraries\n",
    "%load_ext autoreload\n",
    "%autoreload 2\n",
    "import numpy as np\n",
    "import pandas as pd\n",
    "import seaborn as sns\n",
    "import matplotlib.pyplot as plt\n",
    "from sklearn.preprocessing import MinMaxScaler,StandardScaler\n",
    "from sklearn.metrics import roc_curve, auc \n",
    "from sklearn.model_selection import train_test_split \n",
    "from sklearn.metrics import precision_score, recall_score, accuracy_score, f1_score, confusion_matrix, classification_report\n",
    "from sklearn.ensemble import RandomForestClassifier\n",
    "from sklearn.model_selection import train_test_split, GridSearchCV, cross_val_score\n",
    "import itertools\n",
    "from functions import class_imbalance, plot_feature_importances, confusion,smote_class\n",
    "from xgboost import XGBClassifier\n",
    "from imblearn.over_sampling import SMOTE\n",
    "from sklearn.linear_model import LogisticRegression\n",
    "%matplotlib inline\n",
    "\n"
   ]
  },
  {
   "cell_type": "code",
   "execution_count": 0,
   "metadata": {
    "colab": {},
    "colab_type": "code",
    "id": "QZnVFjiMtdc6"
   },
   "outputs": [],
   "source": [
    "users = pd.read_csv(\"rev-users.csv\")\n",
    "trans = pd.read_csv('rev-transactions.csv')\n",
    "devices = pd.read_csv(\"rev-devices.csv\")\n",
    "notify = pd.read_csv(\"rev-notifications.csv\")\n"
   ]
  },
  {
   "cell_type": "markdown",
   "metadata": {
    "colab_type": "text",
    "id": "Amjcc2-eAQ2P"
   },
   "source": [
    "# QUESTION 2"
   ]
  },
  {
   "cell_type": "markdown",
   "metadata": {
    "colab_type": "text",
    "id": "i5EkeWWm6Tx1"
   },
   "source": [
    "# EXPLORATORY DATA ANALYSIS"
   ]
  },
  {
   "cell_type": "markdown",
   "metadata": {
    "colab_type": "text",
    "id": "PfMQ9ADF-iNz"
   },
   "source": [
    "**EXPLORATORY DATA ANALYSIS** "
   ]
  },
  {
   "cell_type": "code",
   "execution_count": 3,
   "metadata": {
    "colab": {
     "base_uri": "https://localhost:8080/",
     "height": 34
    },
    "colab_type": "code",
    "id": "3awBveaZ4Qby",
    "outputId": "5321d752-0400-4c1d-8073-074b1d9344d8"
   },
   "outputs": [
    {
     "data": {
      "text/plain": [
       "0"
      ]
     },
     "execution_count": 3,
     "metadata": {
      "tags": []
     },
     "output_type": "execute_result"
    }
   ],
   "source": [
    "#checking for duplicates in the data\n",
    "trans.duplicated().sum() #no duplicates in the data"
   ]
  },
  {
   "cell_type": "code",
   "execution_count": 4,
   "metadata": {
    "colab": {
     "base_uri": "https://localhost:8080/",
     "height": 34
    },
    "colab_type": "code",
    "id": "A8eqTz8b4dmN",
    "outputId": "7f7822a4-4ce0-45ee-dd90-d8f22e328787"
   },
   "outputs": [
    {
     "data": {
      "text/plain": [
       "2740075"
      ]
     },
     "execution_count": 4,
     "metadata": {
      "tags": []
     },
     "output_type": "execute_result"
    }
   ],
   "source": [
    "#checking for the unique transactions in the data\n",
    "trans.transaction_id.nunique() #we have 2740075 unique transactions in the data"
   ]
  },
  {
   "cell_type": "code",
   "execution_count": 5,
   "metadata": {
    "colab": {
     "base_uri": "https://localhost:8080/",
     "height": 34
    },
    "colab_type": "code",
    "id": "FHboYSxK_J9f",
    "outputId": "50f5ea3f-63b7-4e6d-dfd4-baf6ee218a79"
   },
   "outputs": [
    {
     "data": {
      "text/plain": [
       "18766"
      ]
     },
     "execution_count": 5,
     "metadata": {
      "tags": []
     },
     "output_type": "execute_result"
    }
   ],
   "source": [
    "#checking for the number of unique app users in the data\n",
    "trans.user_id.nunique() #there are 18766 unique app users with transactions"
   ]
  },
  {
   "cell_type": "markdown",
   "metadata": {
    "colab_type": "text",
    "id": "6AZjn63-_1MR"
   },
   "source": [
    "This essentially menans, 18766 users have performed 2740075 transactions on the app for this data"
   ]
  },
  {
   "cell_type": "code",
   "execution_count": 5,
   "metadata": {
    "colab": {
     "base_uri": "https://localhost:8080/",
     "height": 527
    },
    "colab_type": "code",
    "id": "H7moCBVN_ohZ",
    "outputId": "5d8bd370-0d9f-4b76-855f-a4cee6bec8c8"
   },
   "outputs": [
    {
     "name": "stdout",
     "output_type": "stream",
     "text": [
      "<class 'pandas.core.frame.DataFrame'>\n",
      "RangeIndex: 2740075 entries, 0 to 2740074\n",
      "Data columns (total 12 columns):\n",
      "transaction_id           object\n",
      "transactions_type        object\n",
      "transactions_currency    object\n",
      "amount_usd               float64\n",
      "transactions_state       object\n",
      "ea_cardholderpresence    object\n",
      "ea_merchant_mcc          float64\n",
      "ea_merchant_city         object\n",
      "ea_merchant_country      object\n",
      "direction                object\n",
      "user_id                  object\n",
      "created_date             object\n",
      "dtypes: float64(2), object(10)\n",
      "memory usage: 250.9+ MB\n"
     ]
    },
    {
     "data": {
      "text/plain": [
       "transaction_id           False\n",
       "transactions_type        False\n",
       "transactions_currency    False\n",
       "amount_usd               False\n",
       "transactions_state       False\n",
       "ea_cardholderpresence     True\n",
       "ea_merchant_mcc           True\n",
       "ea_merchant_city          True\n",
       "ea_merchant_country       True\n",
       "direction                False\n",
       "user_id                  False\n",
       "created_date             False\n",
       "dtype: bool"
      ]
     },
     "execution_count": 5,
     "metadata": {
      "tags": []
     },
     "output_type": "execute_result"
    }
   ],
   "source": [
    "#checking the datatypes of the respective columns\n",
    "trans.info()\n",
    "trans.isna().any() #checking the dataframe for null values"
   ]
  },
  {
   "cell_type": "markdown",
   "metadata": {
    "colab_type": "text",
    "id": "PQJhNYr1Aj04"
   },
   "source": [
    "There are a lot of missing values in various columns ea_merchant attributes and the ea cardholderpresence"
   ]
  },
  {
   "cell_type": "markdown",
   "metadata": {
    "colab_type": "text",
    "id": "6nvGsjfSB0h9"
   },
   "source": [
    "**CONVERSION OF OBJECT DATES TO DATETIME COLUMNS**"
   ]
  },
  {
   "cell_type": "code",
   "execution_count": 6,
   "metadata": {
    "colab": {
     "base_uri": "https://localhost:8080/",
     "height": 34
    },
    "colab_type": "code",
    "id": "t95NNhCoDUj2",
    "outputId": "bfd65412-a5cf-4902-d7b3-1bcf91c1d1c3"
   },
   "outputs": [
    {
     "data": {
      "text/plain": [
       "Timedelta('500 days 09:31:06.711187')"
      ]
     },
     "execution_count": 6,
     "metadata": {
      "tags": []
     },
     "output_type": "execute_result"
    }
   ],
   "source": [
    "#convert created_date column to datetime pandas\n",
    "trans['created_date'] = pd.to_datetime(trans['created_date'])\n",
    "trans.created_date.max() #check for the last date of transaction on the data\n",
    "trans.created_date.min() #check for earliest transaction date on the column\n",
    "trans.created_date.max() - trans.created_date.min() #total days of transaction history is 500 days."
   ]
  },
  {
   "cell_type": "markdown",
   "metadata": {
    "colab_type": "text",
    "id": "WBXU3e2_JtpF"
   },
   "source": [
    "**MERGE THE USERS AND TRANSACTIONS TABLES**"
   ]
  },
  {
   "cell_type": "code",
   "execution_count": 0,
   "metadata": {
    "colab": {},
    "colab_type": "code",
    "id": "vUpuNt2mHDW1"
   },
   "outputs": [],
   "source": [
    "merged  = pd.merge(users, trans, how='inner', on='user_id', suffixes=('_users','_trans')) #merge the two dataframes users and transactions\n"
   ]
  },
  {
   "cell_type": "code",
   "execution_count": 8,
   "metadata": {
    "colab": {
     "base_uri": "https://localhost:8080/",
     "height": 34
    },
    "colab_type": "code",
    "id": "T9Jw9ycGMnZu",
    "outputId": "ca7b9c92-c903-415d-b7bd-517da4fc8534"
   },
   "outputs": [
    {
     "data": {
      "text/plain": [
       "18766"
      ]
     },
     "execution_count": 8,
     "metadata": {
      "tags": []
     },
     "output_type": "execute_result"
    }
   ],
   "source": [
    "#convert created date users to datetime format\n",
    "merged['created_date_users'] = pd.to_datetime(merged['created_date_users'])\n",
    "merged.user_id.nunique() #18766 unique users of the app in the data"
   ]
  },
  {
   "cell_type": "markdown",
   "metadata": {
    "colab_type": "text",
    "id": "7D-1RChPPkzZ"
   },
   "source": [
    "**SUMMARY STATISTICS OF THE DATA**"
   ]
  },
  {
   "cell_type": "code",
   "execution_count": 9,
   "metadata": {
    "colab": {
     "base_uri": "https://localhost:8080/",
     "height": 317
    },
    "colab_type": "code",
    "id": "Xt62DL0PPETS",
    "outputId": "69b8517e-32db-4322-ff69-3074904d39aa"
   },
   "outputs": [
    {
     "data": {
      "text/html": [
       "<div>\n",
       "<style scoped>\n",
       "    .dataframe tbody tr th:only-of-type {\n",
       "        vertical-align: middle;\n",
       "    }\n",
       "\n",
       "    .dataframe tbody tr th {\n",
       "        vertical-align: top;\n",
       "    }\n",
       "\n",
       "    .dataframe thead th {\n",
       "        text-align: right;\n",
       "    }\n",
       "</style>\n",
       "<table border=\"1\" class=\"dataframe\">\n",
       "  <thead>\n",
       "    <tr style=\"text-align: right;\">\n",
       "      <th></th>\n",
       "      <th>birth_year</th>\n",
       "      <th>user_settings_crypto_unlocked</th>\n",
       "      <th>attributes_notifications_marketing_push</th>\n",
       "      <th>attributes_notifications_marketing_email</th>\n",
       "      <th>num_contacts</th>\n",
       "      <th>num_referrals</th>\n",
       "      <th>num_successful_referrals</th>\n",
       "      <th>amount_usd</th>\n",
       "      <th>ea_merchant_mcc</th>\n",
       "    </tr>\n",
       "  </thead>\n",
       "  <tbody>\n",
       "    <tr>\n",
       "      <th>count</th>\n",
       "      <td>2.740075e+06</td>\n",
       "      <td>2.740075e+06</td>\n",
       "      <td>1.937121e+06</td>\n",
       "      <td>1.937121e+06</td>\n",
       "      <td>2.740075e+06</td>\n",
       "      <td>2740075.0</td>\n",
       "      <td>2740075.0</td>\n",
       "      <td>2.740075e+06</td>\n",
       "      <td>1.581417e+06</td>\n",
       "    </tr>\n",
       "    <tr>\n",
       "      <th>mean</th>\n",
       "      <td>1.985724e+03</td>\n",
       "      <td>3.264531e-01</td>\n",
       "      <td>9.322123e-01</td>\n",
       "      <td>8.954015e-01</td>\n",
       "      <td>2.778644e+01</td>\n",
       "      <td>0.0</td>\n",
       "      <td>0.0</td>\n",
       "      <td>1.703225e+05</td>\n",
       "      <td>5.699736e+03</td>\n",
       "    </tr>\n",
       "    <tr>\n",
       "      <th>std</th>\n",
       "      <td>9.926780e+00</td>\n",
       "      <td>4.689153e-01</td>\n",
       "      <td>2.513813e-01</td>\n",
       "      <td>3.060355e-01</td>\n",
       "      <td>5.827725e+01</td>\n",
       "      <td>0.0</td>\n",
       "      <td>0.0</td>\n",
       "      <td>9.634014e+07</td>\n",
       "      <td>9.493660e+02</td>\n",
       "    </tr>\n",
       "    <tr>\n",
       "      <th>min</th>\n",
       "      <td>1.929000e+03</td>\n",
       "      <td>0.000000e+00</td>\n",
       "      <td>0.000000e+00</td>\n",
       "      <td>0.000000e+00</td>\n",
       "      <td>0.000000e+00</td>\n",
       "      <td>0.0</td>\n",
       "      <td>0.0</td>\n",
       "      <td>0.000000e+00</td>\n",
       "      <td>7.420000e+02</td>\n",
       "    </tr>\n",
       "    <tr>\n",
       "      <th>25%</th>\n",
       "      <td>1.981000e+03</td>\n",
       "      <td>0.000000e+00</td>\n",
       "      <td>1.000000e+00</td>\n",
       "      <td>1.000000e+00</td>\n",
       "      <td>3.000000e+00</td>\n",
       "      <td>0.0</td>\n",
       "      <td>0.0</td>\n",
       "      <td>2.030000e+00</td>\n",
       "      <td>5.411000e+03</td>\n",
       "    </tr>\n",
       "    <tr>\n",
       "      <th>50%</th>\n",
       "      <td>1.988000e+03</td>\n",
       "      <td>0.000000e+00</td>\n",
       "      <td>1.000000e+00</td>\n",
       "      <td>1.000000e+00</td>\n",
       "      <td>1.300000e+01</td>\n",
       "      <td>0.0</td>\n",
       "      <td>0.0</td>\n",
       "      <td>8.510000e+00</td>\n",
       "      <td>5.812000e+03</td>\n",
       "    </tr>\n",
       "    <tr>\n",
       "      <th>75%</th>\n",
       "      <td>1.993000e+03</td>\n",
       "      <td>1.000000e+00</td>\n",
       "      <td>1.000000e+00</td>\n",
       "      <td>1.000000e+00</td>\n",
       "      <td>3.200000e+01</td>\n",
       "      <td>0.0</td>\n",
       "      <td>0.0</td>\n",
       "      <td>2.822000e+01</td>\n",
       "      <td>5.921000e+03</td>\n",
       "    </tr>\n",
       "    <tr>\n",
       "      <th>max</th>\n",
       "      <td>2.001000e+03</td>\n",
       "      <td>1.000000e+00</td>\n",
       "      <td>1.000000e+00</td>\n",
       "      <td>1.000000e+00</td>\n",
       "      <td>2.918000e+03</td>\n",
       "      <td>0.0</td>\n",
       "      <td>0.0</td>\n",
       "      <td>8.510645e+10</td>\n",
       "      <td>9.406000e+03</td>\n",
       "    </tr>\n",
       "  </tbody>\n",
       "</table>\n",
       "</div>"
      ],
      "text/plain": [
       "         birth_year  ...  ea_merchant_mcc\n",
       "count  2.740075e+06  ...     1.581417e+06\n",
       "mean   1.985724e+03  ...     5.699736e+03\n",
       "std    9.926780e+00  ...     9.493660e+02\n",
       "min    1.929000e+03  ...     7.420000e+02\n",
       "25%    1.981000e+03  ...     5.411000e+03\n",
       "50%    1.988000e+03  ...     5.812000e+03\n",
       "75%    1.993000e+03  ...     5.921000e+03\n",
       "max    2.001000e+03  ...     9.406000e+03\n",
       "\n",
       "[8 rows x 9 columns]"
      ]
     },
     "execution_count": 9,
     "metadata": {
      "tags": []
     },
     "output_type": "execute_result"
    }
   ],
   "source": [
    "merged.describe() #summary statistics of the merged dataframe to gain insights on how the data looks like"
   ]
  },
  {
   "cell_type": "markdown",
   "metadata": {
    "colab_type": "text",
    "id": "FBr_oROVQH_H"
   },
   "source": [
    "*   The minimum/youngest age group in the data is 2001 and the maxiumum/oldest age group is 1929 with the mean at 1985.\n",
    "*   Mean value for the transaction amount in USD on the platform is $170322\n",
    "*   None of the users have made referrals and 1.93M of the users have turned on push and marketing email notifications\n",
    "*   The mean value for the number of contacts for each user in the data is 27.78\n",
    "\n",
    "\n",
    "\n"
   ]
  },
  {
   "cell_type": "markdown",
   "metadata": {
    "colab_type": "text",
    "id": "Wz1u_HDRDAem"
   },
   "source": [
    "# CHOOSING TARGET METRIC FOR USER ENGAGEMENT"
   ]
  },
  {
   "cell_type": "markdown",
   "metadata": {
    "colab_type": "text",
    "id": "oHdJuMFsDm0w"
   },
   "source": [
    "For the user engagement metric, I have decided to use the number of digital transactions per user on the platform.As of January 23, 2020 Revolut has more than 2 million customers. According to its website, these customers have completed more than 150 million transactions for a total value of over £15 billion. Revolut has saved customers £560 million in fees thanks to its real exchange rates.\n",
    "Those who use Revolut can spend their money abroad without having to pay any hidden fees thanks to the contactless Revolut card. It works with more than 130 currencies, giving you the real exchange rate without having to rely on brokers or exchanges which offer bad exchange rates.\n",
    "\n",
    "Revolut also offers the ability to send money around the world without hidden fees.  This feature also works in more than 130 countries and provides fast, and secure money transfers.\n",
    "\n",
    "*Revolut App features are built around the making every single transaction as easy as possible for each of its customer*"
   ]
  },
  {
   "cell_type": "markdown",
   "metadata": {
    "colab_type": "text",
    "id": "6EznIMdg53bj"
   },
   "source": [
    "**SORTING OUT USERS WITH AMPLE TRANSACTIONAL HISTORY**"
   ]
  },
  {
   "cell_type": "code",
   "execution_count": 10,
   "metadata": {
    "colab": {
     "base_uri": "https://localhost:8080/",
     "height": 34
    },
    "colab_type": "code",
    "id": "iuT8hBk_Yzj-",
    "outputId": "f4ec9798-4047-47ee-86e3-ca411b2d9f81"
   },
   "outputs": [
    {
     "data": {
      "text/plain": [
       "Timedelta('310 days 21:58:05.003000')"
      ]
     },
     "execution_count": 10,
     "metadata": {
      "tags": []
     },
     "output_type": "execute_result"
    }
   ],
   "source": [
    "ample = merged.groupby('user_id').apply(lambda x: x['created_date_trans'].max() - x['created_date_users'])\n",
    "ample.max()\n",
    "ample.min()\n",
    "ample.mean()\n",
    "ample.median() #I have decided to stick to the median value of the population since it is resistant to outliers in the data"
   ]
  },
  {
   "cell_type": "markdown",
   "metadata": {
    "colab_type": "text",
    "id": "nn6qocQfpvz5"
   },
   "source": [
    "The median for the number of days users have spent on the platform from the day their account was created to the last day of transactional activity is 310 days, 21 hours and 58 minutes."
   ]
  },
  {
   "cell_type": "code",
   "execution_count": 11,
   "metadata": {
    "colab": {
     "base_uri": "https://localhost:8080/",
     "height": 34
    },
    "colab_type": "code",
    "id": "ReoIH6lfgi7Y",
    "outputId": "d9081c32-6d29-4f22-f93d-52bf16d032ee"
   },
   "outputs": [
    {
     "data": {
      "text/plain": [
       "5493"
      ]
     },
     "execution_count": 11,
     "metadata": {
      "tags": []
     },
     "output_type": "execute_result"
    }
   ],
   "source": [
    "ample >= '310 days 21:58:05.003000' #print out boolean operation for users with >= 310 days worth of transactional activity\n",
    "hist = pd.DataFrame(ample) #convert pandas series to dataframe\n",
    "hist.reset_index(drop = False, inplace = True) #reset index\n",
    "hist.drop(columns = ['level_1'], inplace = True)\n",
    "my_users  = hist[hist['created_date_users'] >= '310 days 21:58:05.003000'] #select app users with at least 310 days, 21 hours and 58 minutes worth of transactional history\n",
    "my_users.user_id.nunique() # number of users is 5493"
   ]
  },
  {
   "cell_type": "markdown",
   "metadata": {
    "colab_type": "text",
    "id": "sxlVPbRg4Ic-"
   },
   "source": [
    "What this basically tells us is that we have 5493 users --these users have more than or equals to 310 days, 21 hours and 58 minutes worth of transactional activity. The model is not at risk of judging users recently signing onto the Revolut app and classifying them as unengaged users with barely any transactional history."
   ]
  },
  {
   "cell_type": "markdown",
   "metadata": {
    "colab_type": "text",
    "id": "DfX51jVH8dEm"
   },
   "source": [
    "**JOIN THE MERGED DATAFRAME WITH THE MY USERS DATAFRAME TO GET THE SUBSECTION OF USERS WE WANT FOR THE CLASSIFIER MODEL**"
   ]
  },
  {
   "cell_type": "code",
   "execution_count": 12,
   "metadata": {
    "colab": {
     "base_uri": "https://localhost:8080/",
     "height": 204
    },
    "colab_type": "code",
    "id": "N-l6qP9kBQAF",
    "outputId": "af4b79c4-2ad2-4f93-e470-b7b3e6f470e4"
   },
   "outputs": [
    {
     "data": {
      "text/plain": [
       "CARD_PAYMENT    742706\n",
       "TRANSFER        246643\n",
       "TOPUP           187303\n",
       "EXCHANGE         86878\n",
       "ATM              46568\n",
       "CASHBACK         40462\n",
       "FEE              11065\n",
       "CARD_REFUND       6676\n",
       "TAX               1247\n",
       "REFUND             737\n",
       "Name: transactions_type, dtype: int64"
      ]
     },
     "execution_count": 12,
     "metadata": {
      "tags": []
     },
     "output_type": "execute_result"
    }
   ],
   "source": [
    "classifiers = (merged[merged.user_id.isin(my_users.user_id)])\n",
    "classifiers.user_id.nunique() #same number of users in the sub-group of users having a transactional history of more than 310 days, 21 hours and 58 minutes\n",
    "classifiers.transaction_id.value_counts()\n",
    "classifiers.transactions_type.value_counts()"
   ]
  },
  {
   "cell_type": "markdown",
   "metadata": {
    "colab_type": "text",
    "id": "4HkfQRtCKRy3"
   },
   "source": [
    "As evidenced above, card payment is the most popular type of transaction on Revolut followed by tranfers and topup. "
   ]
  },
  {
   "cell_type": "markdown",
   "metadata": {
    "colab_type": "text",
    "id": "8tzt08AZL18_"
   },
   "source": [
    "**VISUALIZING THE TOP 10 USERS OF THE APP BY THE NUMBER OF TRANSACTIONS**"
   ]
  },
  {
   "cell_type": "code",
   "execution_count": 13,
   "metadata": {
    "colab": {
     "base_uri": "https://localhost:8080/",
     "height": 640
    },
    "colab_type": "code",
    "id": "ow7gndfHKst1",
    "outputId": "8ef7c3be-8694-44b0-e31d-d077ced87224"
   },
   "outputs": [
    {
     "data": {
      "text/plain": [
       "<matplotlib.axes._subplots.AxesSubplot at 0x7ff68f110240>"
      ]
     },
     "execution_count": 13,
     "metadata": {
      "tags": []
     },
     "output_type": "execute_result"
    },
    {
     "data": {
      "image/png": "[encoded data removed]",
      "text/plain": [
       "<Figure size 1440x720 with 1 Axes>"
      ]
     },
     "metadata": {
      "tags": []
     },
     "output_type": "display_data"
    }
   ],
   "source": [
    "plt.figure(figsize =(20,10))\n",
    "plt.title(\"Top 10 Active users in terms of transactions on Revolut App \", fontsize = 15)\n",
    "import seaborn as sns\n",
    "sns.countplot(y=\"user_id\", hue=\"transactions_type\", data=classifiers, palette=\"Blues_d\",\n",
    "              order=classifiers.user_id.value_counts().iloc[:10].index)"
   ]
  },
  {
   "cell_type": "markdown",
   "metadata": {
    "colab_type": "text",
    "id": "dz61elXDJ2L8"
   },
   "source": [
    "As evidenced by the plot above, user 4243 is the top user of the App in terms of transactions spanning 310 days, 21 hours and 58 minutes"
   ]
  },
  {
   "cell_type": "markdown",
   "metadata": {
    "colab_type": "text",
    "id": "UkDdsavjW6dc"
   },
   "source": [
    "**ENGAGED AND UNENGAGED USERS**"
   ]
  },
  {
   "cell_type": "markdown",
   "metadata": {
    "colab_type": "text",
    "id": "T4OF_SRPb_Rg"
   },
   "source": [
    "For this classifier model, there are 1370285 unique transactions in the data and 5493 unique app users. Split equally, it should be 249 transactions per user in 310 days. That is 0.8 transactions per day"
   ]
  },
  {
   "cell_type": "markdown",
   "metadata": {
    "colab_type": "text",
    "id": "0A6bjLObdtGQ"
   },
   "source": [
    "For this project, the engaged user is defined as a user with more than or equals to 249 transactions in the space of 310 days and an unengaged user is defined as a user with less than 249 transactions in the same amount of days"
   ]
  },
  {
   "cell_type": "code",
   "execution_count": 0,
   "metadata": {
    "colab": {},
    "colab_type": "code",
    "id": "phtNP2bXpPWx"
   },
   "outputs": [],
   "source": [
    "series = classifiers.user_id\n",
    "classifiers['count'] = series.groupby(series).transform('count') #count the number of transactions per user\n",
    "classifiers.loc[classifiers['count'] >= 249, 'engagement'] = 1 #seperating the class for engaged user\n",
    "classifiers.loc[classifiers['count'] < 249, 'engagement'] = 0 #seperating the class for unengaged user\n"
   ]
  },
  {
   "cell_type": "code",
   "execution_count": 0,
   "metadata": {
    "colab": {},
    "colab_type": "code",
    "id": "k1GtxdWFqLIW"
   },
   "outputs": [],
   "source": [
    "values = classifiers.groupby('user_id')['engagement'].value_counts() #group the values by user_id and engagement values 1 or 0\n",
    "new_users = pd.DataFrame(values)\n",
    "new_users.drop(columns = ['engagement'], inplace = True)\n",
    "new_users.reset_index(inplace=True)\n",
    "amount_usd= classifiers.groupby('user_id')['amount_usd'].sum() #calculates the total transactional amount per user\n",
    "amount  = pd.DataFrame(amount_usd)\n",
    "amount.reset_index(inplace=True)"
   ]
  },
  {
   "cell_type": "code",
   "execution_count": 0,
   "metadata": {
    "colab": {},
    "colab_type": "code",
    "id": "Rj1wFMUG5zfy"
   },
   "outputs": [],
   "source": [
    "series = notify.user_id\n",
    "notify['notify_count'] = series.groupby(series).transform('count') #count the number of notifications per user\n",
    "notify_values = notify.groupby('user_id')['notify_count'].value_counts()\n",
    "notifications = pd.DataFrame(notify_values) #create a datframe that groups each user by number of notifications\n",
    "notifications.drop(columns = ['notify_count'], inplace = True)\n",
    "notifications.reset_index(inplace=True)\n"
   ]
  },
  {
   "cell_type": "markdown",
   "metadata": {
    "colab_type": "text",
    "id": "QD_kZAXb7kD9"
   },
   "source": [
    "**MERGING ALL THE DATFRAMES INTO ONE FOR THE CLASSIFICATION MODELLING**"
   ]
  },
  {
   "cell_type": "code",
   "execution_count": 17,
   "metadata": {
    "colab": {
     "base_uri": "https://localhost:8080/",
     "height": 326
    },
    "colab_type": "code",
    "id": "Ohj6D16W6_1e",
    "outputId": "a08b91ba-07d9-46c6-e7ea-086e45d50590"
   },
   "outputs": [
    {
     "data": {
      "text/html": [
       "<div>\n",
       "<style scoped>\n",
       "    .dataframe tbody tr th:only-of-type {\n",
       "        vertical-align: middle;\n",
       "    }\n",
       "\n",
       "    .dataframe tbody tr th {\n",
       "        vertical-align: top;\n",
       "    }\n",
       "\n",
       "    .dataframe thead th {\n",
       "        text-align: right;\n",
       "    }\n",
       "</style>\n",
       "<table border=\"1\" class=\"dataframe\">\n",
       "  <thead>\n",
       "    <tr style=\"text-align: right;\">\n",
       "      <th></th>\n",
       "      <th>user_id</th>\n",
       "      <th>amount_usd</th>\n",
       "      <th>engagement</th>\n",
       "      <th>notify_count</th>\n",
       "      <th>brand</th>\n",
       "      <th>birth_year</th>\n",
       "      <th>country</th>\n",
       "      <th>city</th>\n",
       "      <th>created_date</th>\n",
       "      <th>user_settings_crypto_unlocked</th>\n",
       "      <th>plan</th>\n",
       "      <th>attributes_notifications_marketing_push</th>\n",
       "      <th>attributes_notifications_marketing_email</th>\n",
       "      <th>num_contacts</th>\n",
       "      <th>num_referrals</th>\n",
       "      <th>num_successful_referrals</th>\n",
       "    </tr>\n",
       "  </thead>\n",
       "  <tbody>\n",
       "    <tr>\n",
       "      <th>0</th>\n",
       "      <td>user_0</td>\n",
       "      <td>13683.77</td>\n",
       "      <td>1.0</td>\n",
       "      <td>8</td>\n",
       "      <td>Apple</td>\n",
       "      <td>1989</td>\n",
       "      <td>PL</td>\n",
       "      <td>Gdansk</td>\n",
       "      <td>2018-01-13 05:15:15.599466</td>\n",
       "      <td>1</td>\n",
       "      <td>STANDARD</td>\n",
       "      <td>1.0</td>\n",
       "      <td>1.0</td>\n",
       "      <td>3</td>\n",
       "      <td>0</td>\n",
       "      <td>0</td>\n",
       "    </tr>\n",
       "    <tr>\n",
       "      <th>1</th>\n",
       "      <td>user_1</td>\n",
       "      <td>6103.88</td>\n",
       "      <td>0.0</td>\n",
       "      <td>7</td>\n",
       "      <td>Apple</td>\n",
       "      <td>1975</td>\n",
       "      <td>GB</td>\n",
       "      <td>London</td>\n",
       "      <td>2018-01-29 03:38:46.676876</td>\n",
       "      <td>0</td>\n",
       "      <td>STANDARD</td>\n",
       "      <td>NaN</td>\n",
       "      <td>NaN</td>\n",
       "      <td>21</td>\n",
       "      <td>0</td>\n",
       "      <td>0</td>\n",
       "    </tr>\n",
       "    <tr>\n",
       "      <th>2</th>\n",
       "      <td>user_10</td>\n",
       "      <td>52149.94</td>\n",
       "      <td>1.0</td>\n",
       "      <td>6</td>\n",
       "      <td>Apple</td>\n",
       "      <td>1980</td>\n",
       "      <td>FR</td>\n",
       "      <td>Paris</td>\n",
       "      <td>2018-01-04 08:05:15.466282</td>\n",
       "      <td>0</td>\n",
       "      <td>STANDARD</td>\n",
       "      <td>1.0</td>\n",
       "      <td>1.0</td>\n",
       "      <td>38</td>\n",
       "      <td>0</td>\n",
       "      <td>0</td>\n",
       "    </tr>\n",
       "    <tr>\n",
       "      <th>3</th>\n",
       "      <td>user_100</td>\n",
       "      <td>20777.82</td>\n",
       "      <td>0.0</td>\n",
       "      <td>4</td>\n",
       "      <td>Apple</td>\n",
       "      <td>1969</td>\n",
       "      <td>GB</td>\n",
       "      <td>St Clement Jersey</td>\n",
       "      <td>2018-01-15 08:42:17.099386</td>\n",
       "      <td>0</td>\n",
       "      <td>STANDARD</td>\n",
       "      <td>NaN</td>\n",
       "      <td>NaN</td>\n",
       "      <td>0</td>\n",
       "      <td>0</td>\n",
       "      <td>0</td>\n",
       "    </tr>\n",
       "    <tr>\n",
       "      <th>4</th>\n",
       "      <td>user_1002</td>\n",
       "      <td>28938.87</td>\n",
       "      <td>1.0</td>\n",
       "      <td>11</td>\n",
       "      <td>Android</td>\n",
       "      <td>1976</td>\n",
       "      <td>LT</td>\n",
       "      <td>Zalesa</td>\n",
       "      <td>2018-01-13 01:04:25.771157</td>\n",
       "      <td>0</td>\n",
       "      <td>STANDARD</td>\n",
       "      <td>NaN</td>\n",
       "      <td>NaN</td>\n",
       "      <td>14</td>\n",
       "      <td>0</td>\n",
       "      <td>0</td>\n",
       "    </tr>\n",
       "  </tbody>\n",
       "</table>\n",
       "</div>"
      ],
      "text/plain": [
       "     user_id  amount_usd  ...  num_referrals  num_successful_referrals\n",
       "0     user_0    13683.77  ...              0                         0\n",
       "1     user_1     6103.88  ...              0                         0\n",
       "2    user_10    52149.94  ...              0                         0\n",
       "3   user_100    20777.82  ...              0                         0\n",
       "4  user_1002    28938.87  ...              0                         0\n",
       "\n",
       "[5 rows x 16 columns]"
      ]
     },
     "execution_count": 17,
     "metadata": {
      "tags": []
     },
     "output_type": "execute_result"
    }
   ],
   "source": [
    "eng_amount = pd.merge(amount, new_users, how = 'inner' , on = \"user_id\") \n",
    "notify_amount = pd.merge(eng_amount, notifications, how = 'inner', on ='user_id') #note that not every user recieve notifications\n",
    "device_notify = pd.merge(notify_amount, devices, how ='inner', on = 'user_id')\n",
    "users_table = pd.merge(device_notify, users, how = 'inner', on= 'user_id')\n",
    "users_table.head() #finalised data on all users to be used for the classified model"
   ]
  },
  {
   "cell_type": "markdown",
   "metadata": {
    "colab_type": "text",
    "id": "5dBD1K4nAE9F"
   },
   "source": [
    "# QUESTION 3"
   ]
  },
  {
   "cell_type": "markdown",
   "metadata": {
    "colab_type": "text",
    "id": "EqziPczzI-8u"
   },
   "source": [
    "# MACHINE LEARNING CLASSIFIER MODELLING"
   ]
  },
  {
   "cell_type": "markdown",
   "metadata": {
    "colab_type": "text",
    "id": "kiciVko1OYyV"
   },
   "source": [
    "The first step in this process is to build a logistic regression model, one of the more basic classifiers to classify the target variable Engagement with 1 being an engaged user and 0 being an unengaged user."
   ]
  },
  {
   "cell_type": "markdown",
   "metadata": {
    "colab_type": "text",
    "id": "DHO48_5WR5lt"
   },
   "source": [
    "There are also classifier model evaluation metrics such as Precision, Recall, Accuracy and obviously determining the optimal precision-recall trade-off for a given classifier- Reciever operating characteristic(ROC) curves and the AUC(area under the curve)."
   ]
  },
  {
   "cell_type": "code",
   "execution_count": 18,
   "metadata": {
    "colab": {
     "base_uri": "https://localhost:8080/",
     "height": 326
    },
    "colab_type": "code",
    "id": "X0AsSdBXJEDE",
    "outputId": "881dff0b-1573-4dd5-e942-af122995421b"
   },
   "outputs": [
    {
     "data": {
      "text/html": [
       "<div>\n",
       "<style scoped>\n",
       "    .dataframe tbody tr th:only-of-type {\n",
       "        vertical-align: middle;\n",
       "    }\n",
       "\n",
       "    .dataframe tbody tr th {\n",
       "        vertical-align: top;\n",
       "    }\n",
       "\n",
       "    .dataframe thead th {\n",
       "        text-align: right;\n",
       "    }\n",
       "</style>\n",
       "<table border=\"1\" class=\"dataframe\">\n",
       "  <thead>\n",
       "    <tr style=\"text-align: right;\">\n",
       "      <th></th>\n",
       "      <th>user_id</th>\n",
       "      <th>amount_usd</th>\n",
       "      <th>engagement</th>\n",
       "      <th>notify_count</th>\n",
       "      <th>brand</th>\n",
       "      <th>birth_year</th>\n",
       "      <th>country</th>\n",
       "      <th>city</th>\n",
       "      <th>created_date</th>\n",
       "      <th>user_settings_crypto_unlocked</th>\n",
       "      <th>plan</th>\n",
       "      <th>attributes_notifications_marketing_push</th>\n",
       "      <th>attributes_notifications_marketing_email</th>\n",
       "      <th>num_contacts</th>\n",
       "      <th>num_referrals</th>\n",
       "      <th>num_successful_referrals</th>\n",
       "    </tr>\n",
       "  </thead>\n",
       "  <tbody>\n",
       "    <tr>\n",
       "      <th>0</th>\n",
       "      <td>user_0</td>\n",
       "      <td>13683.77</td>\n",
       "      <td>1.0</td>\n",
       "      <td>8</td>\n",
       "      <td>Apple</td>\n",
       "      <td>1989</td>\n",
       "      <td>PL</td>\n",
       "      <td>Gdansk</td>\n",
       "      <td>2018-01-13 05:15:15.599466</td>\n",
       "      <td>1</td>\n",
       "      <td>STANDARD</td>\n",
       "      <td>1.0</td>\n",
       "      <td>1.0</td>\n",
       "      <td>3</td>\n",
       "      <td>0</td>\n",
       "      <td>0</td>\n",
       "    </tr>\n",
       "    <tr>\n",
       "      <th>1</th>\n",
       "      <td>user_1</td>\n",
       "      <td>6103.88</td>\n",
       "      <td>0.0</td>\n",
       "      <td>7</td>\n",
       "      <td>Apple</td>\n",
       "      <td>1975</td>\n",
       "      <td>GB</td>\n",
       "      <td>London</td>\n",
       "      <td>2018-01-29 03:38:46.676876</td>\n",
       "      <td>0</td>\n",
       "      <td>STANDARD</td>\n",
       "      <td>NaN</td>\n",
       "      <td>NaN</td>\n",
       "      <td>21</td>\n",
       "      <td>0</td>\n",
       "      <td>0</td>\n",
       "    </tr>\n",
       "    <tr>\n",
       "      <th>2</th>\n",
       "      <td>user_10</td>\n",
       "      <td>52149.94</td>\n",
       "      <td>1.0</td>\n",
       "      <td>6</td>\n",
       "      <td>Apple</td>\n",
       "      <td>1980</td>\n",
       "      <td>FR</td>\n",
       "      <td>Paris</td>\n",
       "      <td>2018-01-04 08:05:15.466282</td>\n",
       "      <td>0</td>\n",
       "      <td>STANDARD</td>\n",
       "      <td>1.0</td>\n",
       "      <td>1.0</td>\n",
       "      <td>38</td>\n",
       "      <td>0</td>\n",
       "      <td>0</td>\n",
       "    </tr>\n",
       "    <tr>\n",
       "      <th>3</th>\n",
       "      <td>user_100</td>\n",
       "      <td>20777.82</td>\n",
       "      <td>0.0</td>\n",
       "      <td>4</td>\n",
       "      <td>Apple</td>\n",
       "      <td>1969</td>\n",
       "      <td>GB</td>\n",
       "      <td>St Clement Jersey</td>\n",
       "      <td>2018-01-15 08:42:17.099386</td>\n",
       "      <td>0</td>\n",
       "      <td>STANDARD</td>\n",
       "      <td>NaN</td>\n",
       "      <td>NaN</td>\n",
       "      <td>0</td>\n",
       "      <td>0</td>\n",
       "      <td>0</td>\n",
       "    </tr>\n",
       "    <tr>\n",
       "      <th>4</th>\n",
       "      <td>user_1002</td>\n",
       "      <td>28938.87</td>\n",
       "      <td>1.0</td>\n",
       "      <td>11</td>\n",
       "      <td>Android</td>\n",
       "      <td>1976</td>\n",
       "      <td>LT</td>\n",
       "      <td>Zalesa</td>\n",
       "      <td>2018-01-13 01:04:25.771157</td>\n",
       "      <td>0</td>\n",
       "      <td>STANDARD</td>\n",
       "      <td>NaN</td>\n",
       "      <td>NaN</td>\n",
       "      <td>14</td>\n",
       "      <td>0</td>\n",
       "      <td>0</td>\n",
       "    </tr>\n",
       "  </tbody>\n",
       "</table>\n",
       "</div>"
      ],
      "text/plain": [
       "     user_id  amount_usd  ...  num_referrals  num_successful_referrals\n",
       "0     user_0    13683.77  ...              0                         0\n",
       "1     user_1     6103.88  ...              0                         0\n",
       "2    user_10    52149.94  ...              0                         0\n",
       "3   user_100    20777.82  ...              0                         0\n",
       "4  user_1002    28938.87  ...              0                         0\n",
       "\n",
       "[5 rows x 16 columns]"
      ]
     },
     "execution_count": 18,
     "metadata": {
      "tags": []
     },
     "output_type": "execute_result"
    }
   ],
   "source": [
    "users_table.head() #this dataset contains the information about the detremined metric and the key features that might be able to predict the enagaged and unengaged users."
   ]
  },
  {
   "cell_type": "code",
   "execution_count": 19,
   "metadata": {
    "colab": {
     "base_uri": "https://localhost:8080/",
     "height": 374
    },
    "colab_type": "code",
    "id": "MrQ2NS4URV7U",
    "outputId": "9d116172-f6c0-4f49-cdfe-03da2f536556"
   },
   "outputs": [
    {
     "name": "stdout",
     "output_type": "stream",
     "text": [
      "<class 'pandas.core.frame.DataFrame'>\n",
      "Int64Index: 5430 entries, 0 to 5429\n",
      "Data columns (total 16 columns):\n",
      "user_id                                     5430 non-null object\n",
      "amount_usd                                  5430 non-null float64\n",
      "engagement                                  5430 non-null int64\n",
      "notify_count                                5430 non-null int64\n",
      "brand                                       5430 non-null object\n",
      "birth_year                                  5430 non-null int64\n",
      "country                                     5430 non-null object\n",
      "city                                        5430 non-null object\n",
      "created_date                                5430 non-null object\n",
      "user_settings_crypto_unlocked               5430 non-null int64\n",
      "plan                                        5430 non-null object\n",
      "attributes_notifications_marketing_push     3564 non-null float64\n",
      "attributes_notifications_marketing_email    3564 non-null float64\n",
      "num_contacts                                5430 non-null int64\n",
      "num_referrals                               5430 non-null int64\n",
      "num_successful_referrals                    5430 non-null int64\n",
      "dtypes: float64(3), int64(7), object(6)\n",
      "memory usage: 721.2+ KB\n"
     ]
    }
   ],
   "source": [
    "users_table.engagement = users_table.engagement.astype(int) #convert float values to integer values\n",
    "users_table.engagement.value_counts() #this tells us we have 3780 unengaged users and 1650 engaged users(already this points out a notion of class imabalance)\n",
    "users_table.info() #all except the attributes notification columns have non-null values"
   ]
  },
  {
   "cell_type": "markdown",
   "metadata": {
    "colab_type": "text",
    "id": "ZT1TfclqK5Re"
   },
   "source": [
    "Note that email and push notifications still have null values, since these are categorical variables we can't just impute, they won't feature in the model"
   ]
  },
  {
   "cell_type": "markdown",
   "metadata": {
    "colab_type": "text",
    "id": "7c5w-i5jd4r8"
   },
   "source": [
    "**RUNNING A BASELINE LOGISTIC REGRESSION MODEL**\n"
   ]
  },
  {
   "cell_type": "markdown",
   "metadata": {
    "colab_type": "text",
    "id": "Cm_WJO9Wgup4"
   },
   "source": [
    "*DUMMY THE CATEGORICAL VARAIBLES AND SORT OUT PREDICTORS AND TARGET VARAIBLES*"
   ]
  },
  {
   "cell_type": "code",
   "execution_count": 0,
   "metadata": {
    "colab": {},
    "colab_type": "code",
    "id": "t4t7l-HVdT5c"
   },
   "outputs": [],
   "source": [
    "predictor_var  = ['country','brand', 'birth_year', 'plan', 'user_settings_crypto_unlocked','notify_count','amount_usd','num_contacts']\n",
    "predictors= pd.get_dummies(users_table[predictor_var], drop_first = True)\n",
    "target = users_table['engagement']"
   ]
  },
  {
   "cell_type": "code",
   "execution_count": 22,
   "metadata": {
    "colab": {
     "base_uri": "https://localhost:8080/",
     "height": 224
    },
    "colab_type": "code",
    "id": "VmUVIQYHftEk",
    "outputId": "a947368f-b628-4d4a-92d1-d73005c6bb9c"
   },
   "outputs": [
    {
     "data": {
      "text/html": [
       "<div>\n",
       "<style scoped>\n",
       "    .dataframe tbody tr th:only-of-type {\n",
       "        vertical-align: middle;\n",
       "    }\n",
       "\n",
       "    .dataframe tbody tr th {\n",
       "        vertical-align: top;\n",
       "    }\n",
       "\n",
       "    .dataframe thead th {\n",
       "        text-align: right;\n",
       "    }\n",
       "</style>\n",
       "<table border=\"1\" class=\"dataframe\">\n",
       "  <thead>\n",
       "    <tr style=\"text-align: right;\">\n",
       "      <th></th>\n",
       "      <th>birth_year</th>\n",
       "      <th>user_settings_crypto_unlocked</th>\n",
       "      <th>notify_count</th>\n",
       "      <th>amount_usd</th>\n",
       "      <th>num_contacts</th>\n",
       "      <th>country_BE</th>\n",
       "      <th>country_BG</th>\n",
       "      <th>country_CH</th>\n",
       "      <th>country_CY</th>\n",
       "      <th>country_CZ</th>\n",
       "      <th>country_DE</th>\n",
       "      <th>country_DK</th>\n",
       "      <th>country_EE</th>\n",
       "      <th>country_ES</th>\n",
       "      <th>country_FI</th>\n",
       "      <th>country_FR</th>\n",
       "      <th>country_GB</th>\n",
       "      <th>country_GI</th>\n",
       "      <th>country_GR</th>\n",
       "      <th>country_HR</th>\n",
       "      <th>country_HU</th>\n",
       "      <th>country_IE</th>\n",
       "      <th>country_IS</th>\n",
       "      <th>country_IT</th>\n",
       "      <th>country_LI</th>\n",
       "      <th>country_LT</th>\n",
       "      <th>country_LU</th>\n",
       "      <th>country_LV</th>\n",
       "      <th>country_MT</th>\n",
       "      <th>country_NL</th>\n",
       "      <th>country_NO</th>\n",
       "      <th>country_PL</th>\n",
       "      <th>country_PT</th>\n",
       "      <th>country_RO</th>\n",
       "      <th>country_SE</th>\n",
       "      <th>country_SI</th>\n",
       "      <th>country_SK</th>\n",
       "      <th>brand_Apple</th>\n",
       "      <th>brand_Unknown</th>\n",
       "      <th>plan_METAL_FREE</th>\n",
       "      <th>plan_PREMIUM</th>\n",
       "      <th>plan_PREMIUM_FREE</th>\n",
       "      <th>plan_PREMIUM_OFFER</th>\n",
       "      <th>plan_STANDARD</th>\n",
       "    </tr>\n",
       "  </thead>\n",
       "  <tbody>\n",
       "    <tr>\n",
       "      <th>0</th>\n",
       "      <td>1989</td>\n",
       "      <td>1</td>\n",
       "      <td>8</td>\n",
       "      <td>13683.77</td>\n",
       "      <td>3</td>\n",
       "      <td>0</td>\n",
       "      <td>0</td>\n",
       "      <td>0</td>\n",
       "      <td>0</td>\n",
       "      <td>0</td>\n",
       "      <td>0</td>\n",
       "      <td>0</td>\n",
       "      <td>0</td>\n",
       "      <td>0</td>\n",
       "      <td>0</td>\n",
       "      <td>0</td>\n",
       "      <td>0</td>\n",
       "      <td>0</td>\n",
       "      <td>0</td>\n",
       "      <td>0</td>\n",
       "      <td>0</td>\n",
       "      <td>0</td>\n",
       "      <td>0</td>\n",
       "      <td>0</td>\n",
       "      <td>0</td>\n",
       "      <td>0</td>\n",
       "      <td>0</td>\n",
       "      <td>0</td>\n",
       "      <td>0</td>\n",
       "      <td>0</td>\n",
       "      <td>0</td>\n",
       "      <td>1</td>\n",
       "      <td>0</td>\n",
       "      <td>0</td>\n",
       "      <td>0</td>\n",
       "      <td>0</td>\n",
       "      <td>0</td>\n",
       "      <td>1</td>\n",
       "      <td>0</td>\n",
       "      <td>0</td>\n",
       "      <td>0</td>\n",
       "      <td>0</td>\n",
       "      <td>0</td>\n",
       "      <td>1</td>\n",
       "    </tr>\n",
       "    <tr>\n",
       "      <th>1</th>\n",
       "      <td>1975</td>\n",
       "      <td>0</td>\n",
       "      <td>7</td>\n",
       "      <td>6103.88</td>\n",
       "      <td>21</td>\n",
       "      <td>0</td>\n",
       "      <td>0</td>\n",
       "      <td>0</td>\n",
       "      <td>0</td>\n",
       "      <td>0</td>\n",
       "      <td>0</td>\n",
       "      <td>0</td>\n",
       "      <td>0</td>\n",
       "      <td>0</td>\n",
       "      <td>0</td>\n",
       "      <td>0</td>\n",
       "      <td>1</td>\n",
       "      <td>0</td>\n",
       "      <td>0</td>\n",
       "      <td>0</td>\n",
       "      <td>0</td>\n",
       "      <td>0</td>\n",
       "      <td>0</td>\n",
       "      <td>0</td>\n",
       "      <td>0</td>\n",
       "      <td>0</td>\n",
       "      <td>0</td>\n",
       "      <td>0</td>\n",
       "      <td>0</td>\n",
       "      <td>0</td>\n",
       "      <td>0</td>\n",
       "      <td>0</td>\n",
       "      <td>0</td>\n",
       "      <td>0</td>\n",
       "      <td>0</td>\n",
       "      <td>0</td>\n",
       "      <td>0</td>\n",
       "      <td>1</td>\n",
       "      <td>0</td>\n",
       "      <td>0</td>\n",
       "      <td>0</td>\n",
       "      <td>0</td>\n",
       "      <td>0</td>\n",
       "      <td>1</td>\n",
       "    </tr>\n",
       "    <tr>\n",
       "      <th>2</th>\n",
       "      <td>1980</td>\n",
       "      <td>0</td>\n",
       "      <td>6</td>\n",
       "      <td>52149.94</td>\n",
       "      <td>38</td>\n",
       "      <td>0</td>\n",
       "      <td>0</td>\n",
       "      <td>0</td>\n",
       "      <td>0</td>\n",
       "      <td>0</td>\n",
       "      <td>0</td>\n",
       "      <td>0</td>\n",
       "      <td>0</td>\n",
       "      <td>0</td>\n",
       "      <td>0</td>\n",
       "      <td>1</td>\n",
       "      <td>0</td>\n",
       "      <td>0</td>\n",
       "      <td>0</td>\n",
       "      <td>0</td>\n",
       "      <td>0</td>\n",
       "      <td>0</td>\n",
       "      <td>0</td>\n",
       "      <td>0</td>\n",
       "      <td>0</td>\n",
       "      <td>0</td>\n",
       "      <td>0</td>\n",
       "      <td>0</td>\n",
       "      <td>0</td>\n",
       "      <td>0</td>\n",
       "      <td>0</td>\n",
       "      <td>0</td>\n",
       "      <td>0</td>\n",
       "      <td>0</td>\n",
       "      <td>0</td>\n",
       "      <td>0</td>\n",
       "      <td>0</td>\n",
       "      <td>1</td>\n",
       "      <td>0</td>\n",
       "      <td>0</td>\n",
       "      <td>0</td>\n",
       "      <td>0</td>\n",
       "      <td>0</td>\n",
       "      <td>1</td>\n",
       "    </tr>\n",
       "    <tr>\n",
       "      <th>3</th>\n",
       "      <td>1969</td>\n",
       "      <td>0</td>\n",
       "      <td>4</td>\n",
       "      <td>20777.82</td>\n",
       "      <td>0</td>\n",
       "      <td>0</td>\n",
       "      <td>0</td>\n",
       "      <td>0</td>\n",
       "      <td>0</td>\n",
       "      <td>0</td>\n",
       "      <td>0</td>\n",
       "      <td>0</td>\n",
       "      <td>0</td>\n",
       "      <td>0</td>\n",
       "      <td>0</td>\n",
       "      <td>0</td>\n",
       "      <td>1</td>\n",
       "      <td>0</td>\n",
       "      <td>0</td>\n",
       "      <td>0</td>\n",
       "      <td>0</td>\n",
       "      <td>0</td>\n",
       "      <td>0</td>\n",
       "      <td>0</td>\n",
       "      <td>0</td>\n",
       "      <td>0</td>\n",
       "      <td>0</td>\n",
       "      <td>0</td>\n",
       "      <td>0</td>\n",
       "      <td>0</td>\n",
       "      <td>0</td>\n",
       "      <td>0</td>\n",
       "      <td>0</td>\n",
       "      <td>0</td>\n",
       "      <td>0</td>\n",
       "      <td>0</td>\n",
       "      <td>0</td>\n",
       "      <td>1</td>\n",
       "      <td>0</td>\n",
       "      <td>0</td>\n",
       "      <td>0</td>\n",
       "      <td>0</td>\n",
       "      <td>0</td>\n",
       "      <td>1</td>\n",
       "    </tr>\n",
       "    <tr>\n",
       "      <th>4</th>\n",
       "      <td>1976</td>\n",
       "      <td>0</td>\n",
       "      <td>11</td>\n",
       "      <td>28938.87</td>\n",
       "      <td>14</td>\n",
       "      <td>0</td>\n",
       "      <td>0</td>\n",
       "      <td>0</td>\n",
       "      <td>0</td>\n",
       "      <td>0</td>\n",
       "      <td>0</td>\n",
       "      <td>0</td>\n",
       "      <td>0</td>\n",
       "      <td>0</td>\n",
       "      <td>0</td>\n",
       "      <td>0</td>\n",
       "      <td>0</td>\n",
       "      <td>0</td>\n",
       "      <td>0</td>\n",
       "      <td>0</td>\n",
       "      <td>0</td>\n",
       "      <td>0</td>\n",
       "      <td>0</td>\n",
       "      <td>0</td>\n",
       "      <td>0</td>\n",
       "      <td>1</td>\n",
       "      <td>0</td>\n",
       "      <td>0</td>\n",
       "      <td>0</td>\n",
       "      <td>0</td>\n",
       "      <td>0</td>\n",
       "      <td>0</td>\n",
       "      <td>0</td>\n",
       "      <td>0</td>\n",
       "      <td>0</td>\n",
       "      <td>0</td>\n",
       "      <td>0</td>\n",
       "      <td>0</td>\n",
       "      <td>0</td>\n",
       "      <td>0</td>\n",
       "      <td>0</td>\n",
       "      <td>0</td>\n",
       "      <td>0</td>\n",
       "      <td>1</td>\n",
       "    </tr>\n",
       "  </tbody>\n",
       "</table>\n",
       "</div>"
      ],
      "text/plain": [
       "   birth_year  user_settings_crypto_unlocked  ...  plan_PREMIUM_OFFER  plan_STANDARD\n",
       "0        1989                              1  ...                   0              1\n",
       "1        1975                              0  ...                   0              1\n",
       "2        1980                              0  ...                   0              1\n",
       "3        1969                              0  ...                   0              1\n",
       "4        1976                              0  ...                   0              1\n",
       "\n",
       "[5 rows x 44 columns]"
      ]
     },
     "execution_count": 22,
     "metadata": {
      "tags": []
     },
     "output_type": "execute_result"
    }
   ],
   "source": [
    "predictors.head()"
   ]
  },
  {
   "cell_type": "markdown",
   "metadata": {
    "colab_type": "text",
    "id": "mKYf10SEhPI8"
   },
   "source": [
    "*NORMALISATION OF THE VARAIBLES BECAUSE FEATURES ARE ON DIFFERENT SCALES AS SOME FEATURES MIGHT IMPACT THE MODEL MORE HEAVILY THAN OTHERS*"
   ]
  },
  {
   "cell_type": "code",
   "execution_count": 0,
   "metadata": {
    "colab": {},
    "colab_type": "code",
    "id": "2t8ouL4vfvGw"
   },
   "outputs": [],
   "source": [
    "scaler = StandardScaler()\n",
    "scaled_predictors  = scaler.fit_transform(predictors) #scale the predictor varaibles using MinMax Scaler"
   ]
  },
  {
   "cell_type": "code",
   "execution_count": 0,
   "metadata": {
    "colab": {},
    "colab_type": "code",
    "id": "79g6skwEifMM"
   },
   "outputs": [],
   "source": [
    "X_train, X_test, y_train, y_test  = train_test_split(scaled_predictors, target, random_state = 12, test_size = 0.3) # instantiate train test split and set test size to be 30% of data"
   ]
  },
  {
   "cell_type": "code",
   "execution_count": 25,
   "metadata": {
    "colab": {
     "base_uri": "https://localhost:8080/",
     "height": 68
    },
    "colab_type": "code",
    "id": "0Pi5ZTFk_uOZ",
    "outputId": "2ea22180-fd49-46be-f4ac-5a8af7d99c50"
   },
   "outputs": [
    {
     "data": {
      "text/plain": [
       "0    1145\n",
       "1     484\n",
       "Name: engagement, dtype: int64"
      ]
     },
     "execution_count": 25,
     "metadata": {
      "tags": []
     },
     "output_type": "execute_result"
    }
   ],
   "source": [
    "y_test.value_counts()"
   ]
  },
  {
   "cell_type": "code",
   "execution_count": 26,
   "metadata": {
    "colab": {
     "base_uri": "https://localhost:8080/",
     "height": 68
    },
    "colab_type": "code",
    "id": "YBZgBk09ADhu",
    "outputId": "e288408f-2c3d-45ae-a876-b29be1235817"
   },
   "outputs": [
    {
     "data": {
      "text/plain": [
       "0    2635\n",
       "1    1166\n",
       "Name: engagement, dtype: int64"
      ]
     },
     "execution_count": 26,
     "metadata": {
      "tags": []
     },
     "output_type": "execute_result"
    }
   ],
   "source": [
    "y_train.value_counts()"
   ]
  },
  {
   "cell_type": "markdown",
   "metadata": {
    "colab_type": "text",
    "id": "d0XD8zjKjeN5"
   },
   "source": [
    "**FIITING THE BASELINE MODEL**"
   ]
  },
  {
   "cell_type": "code",
   "execution_count": 0,
   "metadata": {
    "colab": {},
    "colab_type": "code",
    "id": "0Kg5MDsaig2A"
   },
   "outputs": [],
   "source": [
    "logreg  = LogisticRegression(fit_intercept= False, C = 1e25, solver = 'liblinear', class_weight=None)\n",
    "model_log = logreg.fit(X_train, y_train)\n",
    "model_log"
   ]
  },
  {
   "cell_type": "code",
   "execution_count": 0,
   "metadata": {
    "colab": {},
    "colab_type": "code",
    "id": "7fB1xRrqphx4"
   },
   "outputs": [],
   "source": [
    " y_hat_test = logreg.predict(X_test)\n",
    " y_hat_train = logreg.predict(X_train)"
   ]
  },
  {
   "cell_type": "markdown",
   "metadata": {
    "colab_type": "text",
    "id": "nn9u5Jz0tNZR"
   },
   "source": [
    "The next step is to make use of the confusion matrix to check for the True Positives and the True Negatives of the predicted classes."
   ]
  },
  {
   "cell_type": "code",
   "execution_count": 0,
   "metadata": {
    "colab": {},
    "colab_type": "code",
    "id": "nA5u7At6p6Ei"
   },
   "outputs": [],
   "source": [
    "# Print confusion matrix\n",
    "cnf_matrix = confusion_matrix(y_test,y_hat_test)\n",
    "print('Confusion Matrix:\\n', cnf_matrix)"
   ]
  },
  {
   "cell_type": "code",
   "execution_count": 97,
   "metadata": {
    "colab": {
     "base_uri": "https://localhost:8080/",
     "height": 297
    },
    "colab_type": "code",
    "id": "K_DyhT9Wu5nl",
    "outputId": "90733f55-a2f7-43f1-b263-5447ef804966"
   },
   "outputs": [
    {
     "data": {
      "image/png": "[encoded data removed]",
      "text/plain": [
       "<Figure size 432x288 with 2 Axes>"
      ]
     },
     "metadata": {
      "tags": []
     },
     "output_type": "display_data"
    }
   ],
   "source": [
    "confusion(cnf_matrix, target)"
   ]
  },
  {
   "cell_type": "markdown",
   "metadata": {
    "colab_type": "text",
    "id": "7JS8IfN_-lFY"
   },
   "source": [
    "**EVALUATION METRICS FOR THE MODEL PERFORMANCE **\n"
   ]
  },
  {
   "cell_type": "code",
   "execution_count": 98,
   "metadata": {
    "colab": {
     "base_uri": "https://localhost:8080/",
     "height": 255
    },
    "colab_type": "code",
    "id": "lcBzyV-e-q9t",
    "outputId": "cc5758c7-38d3-4aff-d639-0caff121fd35"
   },
   "outputs": [
    {
     "name": "stdout",
     "output_type": "stream",
     "text": [
      "Training Precision:  0.6714975845410628\n",
      "Testing Precision:  0.44565217391304346\n",
      "\n",
      "\n",
      "Training Recall:  0.23842195540308747\n",
      "Testing Recall:  0.5929752066115702\n",
      "\n",
      "\n",
      "Training Accuracy:  0.7305972112601947\n",
      "Testing Accuracy:  0.6599140577041129\n",
      "\n",
      "\n",
      "Training F1-Score:  0.35189873417721523\n",
      "Testing F1-Score:  0.5088652482269503\n"
     ]
    }
   ],
   "source": [
    "print('Training Precision: ', precision_score(y_train, y_hat_train))\n",
    "print('Testing Precision: ', precision_score(y_test, y_hat_test))\n",
    "print('\\n')\n",
    "\n",
    "print('Training Recall: ', recall_score(y_train, y_hat_train))\n",
    "print('Testing Recall: ', recall_score(y_test, y_hat_test))\n",
    "print('\\n')\n",
    "\n",
    "print('Training Accuracy: ', accuracy_score(y_train, y_hat_train))\n",
    "print('Testing Accuracy: ', accuracy_score(y_test, y_hat_test))\n",
    "print('\\n')\n",
    "\n",
    "print('Training F1-Score: ', f1_score(y_train, y_hat_train))\n",
    "print('Testing F1-Score: ', f1_score(y_test, y_hat_test))"
   ]
  },
  {
   "cell_type": "markdown",
   "metadata": {
    "colab_type": "text",
    "id": "yuQyHbn_E1Ns"
   },
   "source": [
    "**MODEL ANALYSIS**"
   ]
  },
  {
   "cell_type": "markdown",
   "metadata": {
    "colab_type": "text",
    "id": "fzThjgDmE6yM"
   },
   "source": [
    "The logistic regression model is able to predict the True negative class quite well(1075 cases out of 1145), this might be attributed to the class imbalance in the dataset and it is evident that it did not train well on the positive class as there is a lot of False Negative cases and 119 True positive cases."
   ]
  },
  {
   "cell_type": "markdown",
   "metadata": {
    "colab_type": "text",
    "id": "EQse7IVhHt2q"
   },
   "source": [
    "**ROC CURVE **"
   ]
  },
  {
   "cell_type": "code",
   "execution_count": 35,
   "metadata": {
    "colab": {
     "base_uri": "https://localhost:8080/",
     "height": 34
    },
    "colab_type": "code",
    "id": "pTVhuiOQFxdG",
    "outputId": "d4df73a8-41c1-49c8-c63a-ab9c7c95c310"
   },
   "outputs": [
    {
     "name": "stdout",
     "output_type": "stream",
     "text": [
      "AUC: 0.6863004799884515\n"
     ]
    }
   ],
   "source": [
    "y_score = logreg.fit(X_train, y_train).decision_function(X_test)\n",
    "\n",
    "fpr, tpr, thresholds = roc_curve(y_test, y_score)\n",
    "print('AUC: {}'.format(auc(fpr, tpr))) #AUC Value of 0.686-----better than a random model with an AUC of 0.5"
   ]
  },
  {
   "cell_type": "markdown",
   "metadata": {
    "colab_type": "text",
    "id": "U3y2mVz4IFw_"
   },
   "source": [
    "**ROC CURVE PLOT**"
   ]
  },
  {
   "cell_type": "code",
   "execution_count": 36,
   "metadata": {
    "colab": {
     "base_uri": "https://localhost:8080/",
     "height": 530
    },
    "colab_type": "code",
    "id": "xRX3CNVDINO5",
    "outputId": "c3dfb82c-61f1-40ab-8a46-cae10e0f58f1"
   },
   "outputs": [
    {
     "name": "stdout",
     "output_type": "stream",
     "text": [
      "AUC: 0.6863004799884515\n"
     ]
    },
    {
     "data": {
      "image/png": "[encoded data removed]",
      "text/plain": [
       "<Figure size 720x576 with 1 Axes>"
      ]
     },
     "metadata": {
      "tags": []
     },
     "output_type": "display_data"
    }
   ],
   "source": [
    "# Seaborn's beautiful styling\n",
    "sns.set_style('darkgrid', {'axes.facecolor': '0.9'})\n",
    "\n",
    "print('AUC: {}'.format(auc(fpr, tpr)))\n",
    "plt.figure(figsize=(10, 8))\n",
    "lw = 2\n",
    "plt.plot(fpr, tpr, color='darkorange',\n",
    "         lw=lw, label='ROC curve')\n",
    "plt.plot([0, 1], [0, 1], color='navy', lw=lw, linestyle='--')\n",
    "plt.xlim([0.0, 1.0])\n",
    "plt.ylim([0.0, 1.05])\n",
    "plt.yticks([i/20.0 for i in range(21)])\n",
    "plt.xticks([i/20.0 for i in range(21)])\n",
    "plt.xlabel('False Positive Rate')\n",
    "plt.ylabel('True Positive Rate')\n",
    "plt.title('Receiver operating characteristic (ROC) Curve')\n",
    "plt.legend(loc='lower right')\n",
    "plt.show()"
   ]
  },
  {
   "cell_type": "markdown",
   "metadata": {
    "colab_type": "text",
    "id": "ZIlo46i8IXAI"
   },
   "source": [
    "**So far so good, what this plot means is that the classifier will achieve a true positive rate of 0.65 with a fasle positive rate of 0.35. In this scenario, it performs better than a random classifier**"
   ]
  },
  {
   "cell_type": "markdown",
   "metadata": {
    "colab_type": "text",
    "id": "2L9W06YTTDmw"
   },
   "source": [
    "**CLASS IMBALANCE**"
   ]
  },
  {
   "cell_type": "code",
   "execution_count": 0,
   "metadata": {
    "colab": {},
    "colab_type": "code",
    "id": "EczA2TsdKA1w"
   },
   "outputs": [],
   "source": [
    "print('Normalized counts: \\n')\n",
    "print(users_table['engagement'].value_counts(normalize=True)) #About 70% of the data is attributed to unengaged users and 30% to engaged users"
   ]
  },
  {
   "cell_type": "markdown",
   "metadata": {
    "colab_type": "text",
    "id": "YRLkMULgsl0h"
   },
   "source": [
    "***USING CLASS WEIGHTS TO CHECK AGAINST CLASS IMBALANCE***"
   ]
  },
  {
   "cell_type": "code",
   "execution_count": 78,
   "metadata": {
    "colab": {
     "base_uri": "https://localhost:8080/",
     "height": 1000
    },
    "colab_type": "code",
    "id": "Vmd7kv9Bmkkz",
    "outputId": "210031c8-6dde-4e2c-8468-90929be2d787"
   },
   "outputs": [
    {
     "name": "stdout",
     "output_type": "stream",
     "text": [
      "LogisticRegression(C=1e+20, class_weight=None, dual=False, fit_intercept=False,\n",
      "                   intercept_scaling=1, l1_ratio=None, max_iter=100,\n",
      "                   multi_class='auto', n_jobs=None, penalty='l2',\n",
      "                   random_state=None, solver='liblinear', tol=0.0001, verbose=0,\n",
      "                   warm_start=False)\n",
      "AUC for None: 0.6863004799884515\n",
      "-------------------------------------------------------------------------------------\n",
      "LogisticRegression(C=1e+20, class_weight='balanced', dual=False,\n",
      "                   fit_intercept=False, intercept_scaling=1, l1_ratio=None,\n",
      "                   max_iter=100, multi_class='auto', n_jobs=None, penalty='l2',\n",
      "                   random_state=None, solver='liblinear', tol=0.0001, verbose=0,\n",
      "                   warm_start=False)\n",
      "AUC for Balanced: 0.6863907033815728\n",
      "-------------------------------------------------------------------------------------\n",
      "LogisticRegression(C=1e+20, class_weight={0: 1, 1: 2}, dual=False,\n",
      "                   fit_intercept=False, intercept_scaling=1, l1_ratio=None,\n",
      "                   max_iter=100, multi_class='auto', n_jobs=None, penalty='l2',\n",
      "                   random_state=None, solver='liblinear', tol=0.0001, verbose=0,\n",
      "                   warm_start=False)\n",
      "AUC for 2 to 1: 0.6863834855101231\n",
      "-------------------------------------------------------------------------------------\n"
     ]
    },
    {
     "name": "stderr",
     "output_type": "stream",
     "text": [
      "/usr/local/lib/python3.6/dist-packages/sklearn/svm/_base.py:947: ConvergenceWarning: Liblinear failed to converge, increase the number of iterations.\n",
      "  \"the number of iterations.\", ConvergenceWarning)\n"
     ]
    },
    {
     "name": "stdout",
     "output_type": "stream",
     "text": [
      "LogisticRegression(C=1e+20, class_weight={0: 1, 1: 10}, dual=False,\n",
      "                   fit_intercept=False, intercept_scaling=1, l1_ratio=None,\n",
      "                   max_iter=100, multi_class='auto', n_jobs=None, penalty='l2',\n",
      "                   random_state=None, solver='liblinear', tol=0.0001, verbose=0,\n",
      "                   warm_start=False)\n"
     ]
    },
    {
     "name": "stderr",
     "output_type": "stream",
     "text": [
      "/usr/local/lib/python3.6/dist-packages/sklearn/svm/_base.py:947: ConvergenceWarning: Liblinear failed to converge, increase the number of iterations.\n",
      "  \"the number of iterations.\", ConvergenceWarning)\n"
     ]
    },
    {
     "name": "stdout",
     "output_type": "stream",
     "text": [
      "AUC for 10 to 1: 0.6871106860586813\n",
      "-------------------------------------------------------------------------------------\n"
     ]
    },
    {
     "name": "stderr",
     "output_type": "stream",
     "text": [
      "/usr/local/lib/python3.6/dist-packages/sklearn/svm/_base.py:947: ConvergenceWarning: Liblinear failed to converge, increase the number of iterations.\n",
      "  \"the number of iterations.\", ConvergenceWarning)\n"
     ]
    },
    {
     "name": "stdout",
     "output_type": "stream",
     "text": [
      "LogisticRegression(C=1e+20, class_weight={0: 1, 1: 100}, dual=False,\n",
      "                   fit_intercept=False, intercept_scaling=1, l1_ratio=None,\n",
      "                   max_iter=100, multi_class='auto', n_jobs=None, penalty='l2',\n",
      "                   random_state=None, solver='liblinear', tol=0.0001, verbose=0,\n",
      "                   warm_start=False)\n"
     ]
    },
    {
     "name": "stderr",
     "output_type": "stream",
     "text": [
      "/usr/local/lib/python3.6/dist-packages/sklearn/svm/_base.py:947: ConvergenceWarning: Liblinear failed to converge, increase the number of iterations.\n",
      "  \"the number of iterations.\", ConvergenceWarning)\n"
     ]
    },
    {
     "name": "stdout",
     "output_type": "stream",
     "text": [
      "AUC for 100 to 1: 0.6873560936879713\n",
      "-------------------------------------------------------------------------------------\n"
     ]
    },
    {
     "name": "stderr",
     "output_type": "stream",
     "text": [
      "/usr/local/lib/python3.6/dist-packages/sklearn/svm/_base.py:947: ConvergenceWarning: Liblinear failed to converge, increase the number of iterations.\n",
      "  \"the number of iterations.\", ConvergenceWarning)\n"
     ]
    },
    {
     "name": "stdout",
     "output_type": "stream",
     "text": [
      "LogisticRegression(C=1e+20, class_weight={0: 1, 1: 1000}, dual=False,\n",
      "                   fit_intercept=False, intercept_scaling=1, l1_ratio=None,\n",
      "                   max_iter=100, multi_class='auto', n_jobs=None, penalty='l2',\n",
      "                   random_state=None, solver='liblinear', tol=0.0001, verbose=0,\n",
      "                   warm_start=False)\n"
     ]
    },
    {
     "name": "stderr",
     "output_type": "stream",
     "text": [
      "/usr/local/lib/python3.6/dist-packages/sklearn/svm/_base.py:947: ConvergenceWarning: Liblinear failed to converge, increase the number of iterations.\n",
      "  \"the number of iterations.\", ConvergenceWarning)\n"
     ]
    },
    {
     "name": "stdout",
     "output_type": "stream",
     "text": [
      "AUC for 1000 to 1: 0.687329026670035\n",
      "-------------------------------------------------------------------------------------\n"
     ]
    },
    {
     "data": {
      "image/png": "[encoded data removed]",
      "text/plain": [
       "<Figure size 720x576 with 1 Axes>"
      ]
     },
     "metadata": {
      "tags": []
     },
     "output_type": "display_data"
    }
   ],
   "source": [
    "class_imbalance(X_train, X_test, y_train, y_test)"
   ]
  },
  {
   "cell_type": "markdown",
   "metadata": {
    "colab_type": "text",
    "id": "VHHWAWxzxCwJ"
   },
   "source": [
    "As evidenced above with the ROC curve plot, the AUC score sligthly improves with tweaking the class weight but with 0.143% increase when comparing class weights set to none and class weights set to 1000:1."
   ]
  },
  {
   "cell_type": "markdown",
   "metadata": {
    "colab_type": "text",
    "id": "ka4tkL9kzoRV"
   },
   "source": [
    "**USING SMOTE(SYNTHETIC MINORITY OVERSAMPLING) FOR CLASS IMBALANCE**"
   ]
  },
  {
   "cell_type": "code",
   "execution_count": 119,
   "metadata": {
    "colab": {
     "base_uri": "https://localhost:8080/",
     "height": 1000
    },
    "colab_type": "code",
    "id": "EkBF2QDN3FRJ",
    "outputId": "28aeb30d-b546-4345-fb54-4a32b420c661"
   },
   "outputs": [
    {
     "name": "stderr",
     "output_type": "stream",
     "text": [
      "/usr/local/lib/python3.6/dist-packages/sklearn/utils/deprecation.py:87: FutureWarning: Function safe_indexing is deprecated; safe_indexing is deprecated in version 0.22 and will be removed in version 0.24.\n",
      "  warnings.warn(msg, category=FutureWarning)\n"
     ]
    },
    {
     "name": "stdout",
     "output_type": "stream",
     "text": [
      "LogisticRegression(C=1e+20, class_weight=None, dual=False, fit_intercept=False,\n",
      "                   intercept_scaling=1, l1_ratio=None, max_iter=100,\n",
      "                   multi_class='auto', n_jobs=None, penalty='l2',\n",
      "                   random_state=None, solver='liblinear', tol=0.0001, verbose=0,\n",
      "                   warm_start=False)\n",
      "AUC for 0.1: 0.6863636363636364\n",
      "-------------------------------------------------------------------------------------\n"
     ]
    },
    {
     "name": "stderr",
     "output_type": "stream",
     "text": [
      "/usr/local/lib/python3.6/dist-packages/sklearn/utils/deprecation.py:87: FutureWarning: Function safe_indexing is deprecated; safe_indexing is deprecated in version 0.22 and will be removed in version 0.24.\n",
      "  warnings.warn(msg, category=FutureWarning)\n"
     ]
    },
    {
     "name": "stdout",
     "output_type": "stream",
     "text": [
      "LogisticRegression(C=1e+20, class_weight=None, dual=False, fit_intercept=False,\n",
      "                   intercept_scaling=1, l1_ratio=None, max_iter=100,\n",
      "                   multi_class='auto', n_jobs=None, penalty='l2',\n",
      "                   random_state=None, solver='liblinear', tol=0.0001, verbose=0,\n",
      "                   warm_start=False)\n",
      "AUC for 0.25: 0.6839456494279837\n",
      "-------------------------------------------------------------------------------------\n"
     ]
    },
    {
     "name": "stderr",
     "output_type": "stream",
     "text": [
      "/usr/local/lib/python3.6/dist-packages/sklearn/utils/deprecation.py:87: FutureWarning: Function safe_indexing is deprecated; safe_indexing is deprecated in version 0.22 and will be removed in version 0.24.\n",
      "  warnings.warn(msg, category=FutureWarning)\n"
     ]
    },
    {
     "name": "stdout",
     "output_type": "stream",
     "text": [
      "LogisticRegression(C=1e+20, class_weight=None, dual=False, fit_intercept=False,\n",
      "                   intercept_scaling=1, l1_ratio=None, max_iter=100,\n",
      "                   multi_class='auto', n_jobs=None, penalty='l2',\n",
      "                   random_state=None, solver='liblinear', tol=0.0001, verbose=0,\n",
      "                   warm_start=False)\n",
      "AUC for 0.33: 0.6851853188494714\n",
      "-------------------------------------------------------------------------------------\n"
     ]
    },
    {
     "name": "stderr",
     "output_type": "stream",
     "text": [
      "/usr/local/lib/python3.6/dist-packages/sklearn/utils/deprecation.py:87: FutureWarning: Function safe_indexing is deprecated; safe_indexing is deprecated in version 0.22 and will be removed in version 0.24.\n",
      "  warnings.warn(msg, category=FutureWarning)\n"
     ]
    },
    {
     "name": "stdout",
     "output_type": "stream",
     "text": [
      "LogisticRegression(C=1e+20, class_weight=None, dual=False, fit_intercept=False,\n",
      "                   intercept_scaling=1, l1_ratio=None, max_iter=100,\n",
      "                   multi_class='auto', n_jobs=None, penalty='l2',\n",
      "                   random_state=None, solver='liblinear', tol=0.0001, verbose=0,\n",
      "                   warm_start=False)\n",
      "AUC for 0.5: 0.6881644952903389\n",
      "-------------------------------------------------------------------------------------\n"
     ]
    },
    {
     "name": "stderr",
     "output_type": "stream",
     "text": [
      "/usr/local/lib/python3.6/dist-packages/sklearn/utils/deprecation.py:87: FutureWarning: Function safe_indexing is deprecated; safe_indexing is deprecated in version 0.22 and will be removed in version 0.24.\n",
      "  warnings.warn(msg, category=FutureWarning)\n"
     ]
    },
    {
     "name": "stdout",
     "output_type": "stream",
     "text": [
      "LogisticRegression(C=1e+20, class_weight=None, dual=False, fit_intercept=False,\n",
      "                   intercept_scaling=1, l1_ratio=None, max_iter=100,\n",
      "                   multi_class='auto', n_jobs=None, penalty='l2',\n",
      "                   random_state=None, solver='liblinear', tol=0.0001, verbose=0,\n",
      "                   warm_start=False)\n",
      "AUC for 0.7: 0.6864322061424086\n",
      "-------------------------------------------------------------------------------------\n"
     ]
    },
    {
     "name": "stderr",
     "output_type": "stream",
     "text": [
      "/usr/local/lib/python3.6/dist-packages/sklearn/utils/deprecation.py:87: FutureWarning: Function safe_indexing is deprecated; safe_indexing is deprecated in version 0.22 and will be removed in version 0.24.\n",
      "  warnings.warn(msg, category=FutureWarning)\n"
     ]
    },
    {
     "name": "stdout",
     "output_type": "stream",
     "text": [
      "LogisticRegression(C=1e+20, class_weight=None, dual=False, fit_intercept=False,\n",
      "                   intercept_scaling=1, l1_ratio=None, max_iter=100,\n",
      "                   multi_class='auto', n_jobs=None, penalty='l2',\n",
      "                   random_state=None, solver='liblinear', tol=0.0001, verbose=0,\n",
      "                   warm_start=False)\n",
      "AUC for even: 0.6894366451333501\n",
      "-------------------------------------------------------------------------------------\n"
     ]
    },
    {
     "data": {
      "image/png": "[encoded data removed]",
      "text/plain": [
       "<Figure size 720x576 with 1 Axes>"
      ]
     },
     "metadata": {
      "tags": []
     },
     "output_type": "display_data"
    }
   ],
   "source": [
    "smote_class(X_train, X_test, y_train, y_test)"
   ]
  },
  {
   "cell_type": "markdown",
   "metadata": {
    "colab_type": "text",
    "id": "B1JtYt3n4GpF"
   },
   "source": [
    "Since SMOTE recreated our dataset to have a balanced number of positive and negative cases, aggressive weighting schemas such as 10:1, 100:1 or 1000:1 drastically impact our model performance, even SMOTE weighted model appears be the top performing model with AUC = 0.6894 so far"
   ]
  },
  {
   "cell_type": "markdown",
   "metadata": {
    "colab_type": "text",
    "id": "Cnm60fjINzGv"
   },
   "source": [
    "**RANDOM FOREST CLASSIFIER**"
   ]
  },
  {
   "cell_type": "code",
   "execution_count": 43,
   "metadata": {
    "colab": {
     "base_uri": "https://localhost:8080/",
     "height": 153
    },
    "colab_type": "code",
    "id": "ohdTmVMe4YVY",
    "outputId": "729fdcea-d393-487c-8d91-e33bd6ebdaea"
   },
   "outputs": [
    {
     "data": {
      "text/plain": [
       "RandomForestClassifier(bootstrap=True, ccp_alpha=0.0, class_weight=None,\n",
       "                       criterion='gini', max_depth=5, max_features='auto',\n",
       "                       max_leaf_nodes=None, max_samples=None,\n",
       "                       min_impurity_decrease=0.0, min_impurity_split=None,\n",
       "                       min_samples_leaf=1, min_samples_split=2,\n",
       "                       min_weight_fraction_leaf=0.0, n_estimators=100,\n",
       "                       n_jobs=None, oob_score=False, random_state=None,\n",
       "                       verbose=0, warm_start=False)"
      ]
     },
     "execution_count": 43,
     "metadata": {
      "tags": []
     },
     "output_type": "execute_result"
    }
   ],
   "source": [
    "#fitting a baseline Random Forest Classifier to the data\n",
    "forest = RandomForestClassifier(n_estimators =100,max_depth=5)\n",
    "forest.fit(X_train, y_train)"
   ]
  },
  {
   "cell_type": "markdown",
   "metadata": {
    "colab_type": "text",
    "id": "PJrjRPUkcBdq"
   },
   "source": [
    "**MODEL PERFORMANCE**"
   ]
  },
  {
   "cell_type": "code",
   "execution_count": 44,
   "metadata": {
    "colab": {
     "base_uri": "https://localhost:8080/",
     "height": 51
    },
    "colab_type": "code",
    "id": "QtaiRS-YZNNB",
    "outputId": "e800c587-c3cb-4469-a098-d0d9b921b437"
   },
   "outputs": [
    {
     "name": "stdout",
     "output_type": "stream",
     "text": [
      "The training accuracy score is : 0.7858458300447251\n",
      "The test accuracy score is : 0.7790055248618785\n"
     ]
    }
   ],
   "source": [
    "#Training accuracy score and test accuracy test\n",
    "print(\"The training accuracy score is :\", forest.score(X_train, y_train))\n",
    "print(\"The test accuracy score is :\", forest.score(X_test, y_test)) #the results below indicates the model is not overfitting"
   ]
  },
  {
   "cell_type": "code",
   "execution_count": 88,
   "metadata": {
    "colab": {
     "base_uri": "https://localhost:8080/",
     "height": 497
    },
    "colab_type": "code",
    "id": "UcsJqEL1aNJO",
    "outputId": "48747302-f289-4ce5-e931-a5919c01a641"
   },
   "outputs": [
    {
     "data": {
      "image/png": "[encoded data removed]",
      "text/plain": [
       "<Figure size 576x576 with 1 Axes>"
      ]
     },
     "metadata": {
      "tags": []
     },
     "output_type": "display_data"
    }
   ],
   "source": [
    "plot_feature_importances(forest) #important features driving the random forest model"
   ]
  },
  {
   "cell_type": "markdown",
   "metadata": {
    "colab_type": "text",
    "id": "kDq5JZPla7Hr"
   },
   "source": [
    "We can finally see the most important feature driving the model is the amount of transactions in USD per user, other important features are number of contacts on the app, number of notifications, standard and premium plan subscriptions, birth year and also user crypto settings"
   ]
  },
  {
   "cell_type": "markdown",
   "metadata": {
    "colab_type": "text",
    "id": "vpfn6dv6eXZj"
   },
   "source": [
    "**USING GRIDSEARCH CV TO INCREASE MODEL PERFORMANCE THROUGH HYPERPARAMETER TUNING**"
   ]
  },
  {
   "cell_type": "code",
   "execution_count": 46,
   "metadata": {
    "colab": {
     "base_uri": "https://localhost:8080/",
     "height": 68
    },
    "colab_type": "code",
    "id": "DnW0iKMkaTvT",
    "outputId": "3a51f089-ca47-4a49-d618-8523786951dc"
   },
   "outputs": [
    {
     "name": "stdout",
     "output_type": "stream",
     "text": [
      "Training Accuracy: 80.82%\n",
      "\n",
      "Optimal Parameters: {'criterion': 'entropy', 'max_depth': None, 'min_samples_leaf': 3, 'min_samples_split': 15, 'n_estimators': 30}\n"
     ]
    }
   ],
   "source": [
    "rf_clf = RandomForestClassifier()\n",
    "rf_param_grid = {\n",
    "    'n_estimators': [10, 30, 100, 150, 200],\n",
    "    'criterion': ['gini', 'entropy'],\n",
    "    'max_depth': [None, 2, 6, 10, 15],\n",
    "    'min_samples_split': [5, 10, 15],\n",
    "    'min_samples_leaf': [3, 6]\n",
    "}\n",
    "rf_grid_search = GridSearchCV(rf_clf, rf_param_grid, cv=3)\n",
    "rf_grid_search.fit(X_train, y_train)\n",
    "print(f\"Training Accuracy: {rf_grid_search.best_score_ :.2%}\")\n",
    "print(\"\")\n",
    "print(f\"Optimal Parameters: {rf_grid_search.best_params_}\")"
   ]
  },
  {
   "cell_type": "code",
   "execution_count": 47,
   "metadata": {
    "colab": {
     "base_uri": "https://localhost:8080/",
     "height": 34
    },
    "colab_type": "code",
    "id": "_GnNAGz0h2B8",
    "outputId": "ab9fc1ed-3e1f-4f48-b832-7f2b8e99a41e"
   },
   "outputs": [
    {
     "name": "stdout",
     "output_type": "stream",
     "text": [
      "Random forest grid search:  0.7992633517495396\n"
     ]
    }
   ],
   "source": [
    "rf_score = rf_grid_search.score(X_test, y_test)\n",
    "print('Random forest grid search: ', rf_score) #the accuracy score for the test set for the optimal paramter Random Forest Classifier is 79.9%"
   ]
  },
  {
   "cell_type": "code",
   "execution_count": 92,
   "metadata": {
    "colab": {
     "base_uri": "https://localhost:8080/",
     "height": 68
    },
    "colab_type": "code",
    "id": "85wLofPAh3eQ",
    "outputId": "8c900779-85f2-4bbb-e85c-f398072155d9"
   },
   "outputs": [
    {
     "name": "stdout",
     "output_type": "stream",
     "text": [
      "Confusion Matrix for Optimal Random Forest Classifier:\n",
      " [[1042  103]\n",
      " [ 224  260]]\n"
     ]
    }
   ],
   "source": [
    "rf_train = rf_grid_search.predict(X_train)\n",
    "rf_test = rf_grid_search.predict(X_test)\n",
    "# Print confusion matrix\n",
    "cnf_matrix_1 = confusion_matrix(y_test,rf_test)\n",
    "print('Confusion Matrix for Optimal Random Forest Classifier:\\n', cnf_matrix_1)"
   ]
  },
  {
   "cell_type": "code",
   "execution_count": 95,
   "metadata": {
    "colab": {
     "base_uri": "https://localhost:8080/",
     "height": 297
    },
    "colab_type": "code",
    "id": "z7Spx_BSuIHZ",
    "outputId": "95aafc3b-8b00-41fc-ec1b-e58c58b92c75"
   },
   "outputs": [
    {
     "data": {
      "image/png": "[encoded data removed]",
      "text/plain": [
       "<Figure size 432x288 with 2 Axes>"
      ]
     },
     "metadata": {
      "tags": []
     },
     "output_type": "display_data"
    }
   ],
   "source": [
    "confusion(cnf_matrix_1, target)"
   ]
  },
  {
   "cell_type": "code",
   "execution_count": 50,
   "metadata": {
    "colab": {
     "base_uri": "https://localhost:8080/",
     "height": 306
    },
    "colab_type": "code",
    "id": "rfmom2pbj3ur",
    "outputId": "595d79d8-567e-465f-999d-199339353117"
   },
   "outputs": [
    {
     "name": "stdout",
     "output_type": "stream",
     "text": [
      "Training Precision:  0.8429378531073446\n",
      "Testing Precision:  0.7162534435261708\n",
      "\n",
      "\n",
      "\n",
      "Training Recall:  0.6397941680960549\n",
      "Testing Recall:  0.5371900826446281\n",
      "\n",
      "\n",
      "\n",
      "Training Accuracy:  0.8529334385687977\n",
      "Testing Accuracy:  0.7992633517495396\n",
      "\n",
      "\n",
      "\n",
      "Training F1-Score:  0.727450024378352\n",
      "Testing F1-Score:  0.6139315230224321\n"
     ]
    }
   ],
   "source": [
    "print('Training Precision: ', precision_score(y_train, rf_train))\n",
    "print('Testing Precision: ', precision_score(y_test, rf_test))\n",
    "print('\\n\\n')\n",
    "\n",
    "print('Training Recall: ', recall_score(y_train, rf_train))\n",
    "print('Testing Recall: ', recall_score(y_test, rf_test))\n",
    "print('\\n\\n')\n",
    "\n",
    "print('Training Accuracy: ', accuracy_score(y_train, rf_train))\n",
    "print('Testing Accuracy: ', accuracy_score(y_test, rf_test))\n",
    "print('\\n\\n')\n",
    "\n",
    "print('Training F1-Score: ', f1_score(y_train, rf_train))\n",
    "print('Testing F1-Score: ', f1_score(y_test, rf_test))"
   ]
  },
  {
   "cell_type": "markdown",
   "metadata": {
    "colab_type": "text",
    "id": "cipfk3G_VBbj"
   },
   "source": [
    "The training accuracy for the Random Forest classifier model is 85.2% and the test accuracy is 79.9%"
   ]
  },
  {
   "cell_type": "markdown",
   "metadata": {
    "colab_type": "text",
    "id": "tQCC0S9pFlxF"
   },
   "source": [
    "**EXTEREME GRADIENT BOOSTED CLASSIFIER MODEL**"
   ]
  },
  {
   "cell_type": "code",
   "execution_count": 51,
   "metadata": {
    "colab": {
     "base_uri": "https://localhost:8080/",
     "height": 51
    },
    "colab_type": "code",
    "id": "WRWEsn4RFk5V",
    "outputId": "c238413c-51a3-4ac9-d0e8-a6aa0252ab0c"
   },
   "outputs": [
    {
     "name": "stdout",
     "output_type": "stream",
     "text": [
      "Training Accuracy: 83.79%\n",
      "Validation accuracy: 82.01%\n"
     ]
    }
   ],
   "source": [
    "#Run Baseline XGboost classifier model\n",
    "# Instantiate XGBClassifier\n",
    "clf = XGBClassifier()\n",
    "\n",
    "# Fit XGBClassifier\n",
    "clf.fit(X_train, y_train)\n",
    "\n",
    "# Predict on training and test sets\n",
    "training_preds = clf.predict(X_train)\n",
    "test_preds = clf.predict(X_test)\n",
    "\n",
    "# Accuracy of training and test sets\n",
    "training_accuracy = accuracy_score(y_train, training_preds)\n",
    "test_accuracy = accuracy_score(y_test, test_preds)\n",
    "\n",
    "print('Training Accuracy: {:.4}%'.format(training_accuracy * 100))\n",
    "print('Validation accuracy: {:.4}%'.format(test_accuracy * 100))"
   ]
  },
  {
   "cell_type": "markdown",
   "metadata": {
    "colab_type": "text",
    "id": "r8O33OihLeNW"
   },
   "source": [
    "The result of the baseline extreme gradient boosted classifier shows a marked improvement compared to the result of the random forest classifier and also shows no sign of overfitting the training data with training accuracy = 83.79% and validation accuracy  = 82.01%"
   ]
  },
  {
   "cell_type": "markdown",
   "metadata": {
    "colab_type": "text",
    "id": "7KWf8bXGsyfL"
   },
   "source": [
    "**FEATURE IMPORTANCE PLOT FOR THE XGB CLASSIFER**"
   ]
  },
  {
   "cell_type": "code",
   "execution_count": 89,
   "metadata": {
    "colab": {
     "base_uri": "https://localhost:8080/",
     "height": 497
    },
    "colab_type": "code",
    "id": "6v-Lgj3js7W3",
    "outputId": "9bd62c6b-5f49-4793-eb43-2fdf15857f9a"
   },
   "outputs": [
    {
     "data": {
      "image/png": "[encoded data removed]",
      "text/plain": [
       "<Figure size 576x576 with 1 Axes>"
      ]
     },
     "metadata": {
      "tags": []
     },
     "output_type": "display_data"
    }
   ],
   "source": [
    "plot_feature_importances(clf) #features driving the gradient boosted model"
   ]
  },
  {
   "cell_type": "markdown",
   "metadata": {
    "colab_type": "text",
    "id": "d9tHSo-KtBRH"
   },
   "source": [
    "As evidenced from the plot, the extreme gradient boosted classifier is able to find more interactions in the features compared to the random forest classifier, most notably in the country feature column"
   ]
  },
  {
   "cell_type": "markdown",
   "metadata": {
    "colab_type": "text",
    "id": "Pdf03UODL5kd"
   },
   "source": [
    "**TUNING THE XGBOOST CLASSIFIER**"
   ]
  },
  {
   "cell_type": "code",
   "execution_count": 52,
   "metadata": {
    "colab": {
     "base_uri": "https://localhost:8080/",
     "height": 170
    },
    "colab_type": "code",
    "id": "gUT-W1ZIL-sZ",
    "outputId": "10169089-a4ca-43ca-a142-1ede474a22a8"
   },
   "outputs": [
    {
     "name": "stdout",
     "output_type": "stream",
     "text": [
      "Grid Search found the following optimal parameters: \n",
      "learning_rate: 0.1\n",
      "max_depth: 3\n",
      "min_child_weight: 1\n",
      "n_estimators: 50\n",
      "subsample: 0.3\n",
      "\n",
      "Training Accuracy: 82.48%\n",
      "Validation accuracy: 81.65%\n"
     ]
    }
   ],
   "source": [
    "param_grid = {\n",
    "    'learning_rate': [0.1, 0.2],\n",
    "    'max_depth': [3, 6, 10],\n",
    "    'min_child_weight': [1, 2, 5],\n",
    "    'subsample': [0.3,0.5, 0.7],\n",
    "    'n_estimators': [50,100,200],\n",
    "}\n",
    "grid_clf = GridSearchCV(clf, param_grid, scoring='accuracy', cv=3, n_jobs=1)\n",
    "grid_clf.fit(X_train, y_train)\n",
    "\n",
    "best_parameters = grid_clf.best_params_\n",
    "\n",
    "print('Grid Search found the following optimal parameters: ')\n",
    "for param_name in sorted(best_parameters.keys()):\n",
    "    print('%s: %r' % (param_name, best_parameters[param_name]))\n",
    "\n",
    "training_preds = grid_clf.predict(X_train)\n",
    "test_preds = grid_clf.predict(X_test)\n",
    "training_accuracy = accuracy_score(y_train, training_preds)\n",
    "test_accuracy = accuracy_score(y_test, test_preds)\n",
    "\n",
    "print('')\n",
    "print('Training Accuracy: {:.4}%'.format(training_accuracy * 100))\n",
    "print('Validation accuracy: {:.4}%'.format(test_accuracy * 100))"
   ]
  },
  {
   "cell_type": "markdown",
   "metadata": {
    "colab_type": "text",
    "id": "KY_z_h6XOlCg"
   },
   "source": [
    "The xgbclassifier model gives the best Accuracy score of 81.65% out of all the models tested on this data so far. The Random Forest model also perfomed well with an accuracy score of 79.92%."
   ]
  },
  {
   "cell_type": "markdown",
   "metadata": {
    "colab_type": "text",
    "id": "XQcwDuubPRFZ"
   },
   "source": [
    "**CONFUSION MATRIX FOR THE XGB CLASSIFIER MODEL**"
   ]
  },
  {
   "cell_type": "code",
   "execution_count": 99,
   "metadata": {
    "colab": {
     "base_uri": "https://localhost:8080/",
     "height": 68
    },
    "colab_type": "code",
    "id": "jM6oaxpDPOia",
    "outputId": "66bb9110-6d4e-49fe-d779-2dd03b405950"
   },
   "outputs": [
    {
     "name": "stdout",
     "output_type": "stream",
     "text": [
      "Confusion Matrix for Optimal Gradient Boosted Classifier:\n",
      " [[1019  126]\n",
      " [ 173  311]]\n"
     ]
    }
   ],
   "source": [
    "cnf_matrix_2 = confusion_matrix(y_test,test_preds)\n",
    "print('Confusion Matrix for Optimal Gradient Boosted Classifier:\\n', cnf_matrix_2)"
   ]
  },
  {
   "cell_type": "code",
   "execution_count": 100,
   "metadata": {
    "colab": {
     "base_uri": "https://localhost:8080/",
     "height": 297
    },
    "colab_type": "code",
    "id": "LsXqpPS-vW5o",
    "outputId": "7c8732bf-9ee4-46ef-b5d3-f61bde2c45c6"
   },
   "outputs": [
    {
     "data": {
      "image/png": "[encoded data removed]",
      "text/plain": [
       "<Figure size 432x288 with 2 Axes>"
      ]
     },
     "metadata": {
      "tags": []
     },
     "output_type": "display_data"
    }
   ],
   "source": [
    "confusion(cnf_matrix_2, target)"
   ]
  },
  {
   "cell_type": "code",
   "execution_count": 101,
   "metadata": {
    "colab": {
     "base_uri": "https://localhost:8080/",
     "height": 306
    },
    "colab_type": "code",
    "id": "aCjpiC-SP_7G",
    "outputId": "efa93cc9-d9eb-41e0-c714-5d4e71888d12"
   },
   "outputs": [
    {
     "name": "stdout",
     "output_type": "stream",
     "text": [
      "Training Precision:  0.7293577981651376\n",
      "Testing Precision:  0.7116704805491991\n",
      "\n",
      "\n",
      "\n",
      "Training Recall:  0.6818181818181818\n",
      "Testing Recall:  0.6425619834710744\n",
      "\n",
      "\n",
      "\n",
      "Training Accuracy:  0.824782951854775\n",
      "Testing Accuracy:  0.8164518109269491\n",
      "\n",
      "\n",
      "\n",
      "Training F1-Score:  0.7047872340425531\n",
      "Testing F1-Score:  0.6753528773072748\n"
     ]
    }
   ],
   "source": [
    "print('Training Precision: ', precision_score(y_train, training_preds))\n",
    "print('Testing Precision: ', precision_score(y_test, test_preds))\n",
    "print('\\n\\n')\n",
    "\n",
    "print('Training Recall: ', recall_score(y_train, training_preds))\n",
    "print('Testing Recall: ', recall_score(y_test, test_preds))\n",
    "print('\\n\\n')\n",
    "\n",
    "print('Training Accuracy: ', accuracy_score(y_train, training_preds))\n",
    "print('Testing Accuracy: ', accuracy_score(y_test, test_preds))\n",
    "print('\\n\\n')\n",
    "\n",
    "print('Training F1-Score: ', f1_score(y_train, training_preds))\n",
    "print('Testing F1-Score: ', f1_score(y_test, test_preds))"
   ]
  },
  {
   "cell_type": "markdown",
   "metadata": {
    "colab_type": "text",
    "id": "tULYEAn25CYP"
   },
   "source": [
    "# QUESTION 4"
   ]
  },
  {
   "cell_type": "markdown",
   "metadata": {
    "colab_type": "text",
    "id": "g2t0-L-Rbvj2"
   },
   "source": [
    "# Let’s assume an unengaged user is a churned user. Now suppose we use your model to identify unengaged users and implement some business actions try to convert them to engaged users (commonly known as reducing churn)"
   ]
  },
  {
   "cell_type": "markdown",
   "metadata": {
    "colab_type": "text",
    "id": "zIIOAbDjcZHv"
   },
   "source": [
    "How would you set up a test/experiment to check whether we are actually\n",
    "reducing churn? "
   ]
  },
  {
   "cell_type": "markdown",
   "metadata": {
    "colab_type": "text",
    "id": "wS_ChK0tsrGL"
   },
   "source": [
    "I would run an A/B testing experiment to check if the business actions implemented is actually reducing churned users.\n",
    "\n",
    "\n",
    "*   One version would be the app without the business actions implemented to reduce churned users.\n",
    "*   The other version would be the app with the business actions implemented to reduce churned users.\n",
    "\n",
    "\n",
    "The steps taken in designing an A/B test are:\n",
    "*   Choosing a Metric\n",
    "*   Defining null and Alternative Hypothesis hypothesis: Ho and Ha\n",
    "*   Investigating alpha, power ,effect size and sample size\n",
    "\n",
    "\n",
    "Assuming version 1 app is the app with no business actions implemented and version 2 app is the app with business actions implemented.\n",
    "In this scenario:\n",
    "Null Hypothesis Ho: There is no difference in the number of transactions between churned users on app version 1 and app version 2.\n",
    "Alternative Hypothesis: Number of transactions for churned users on app version 2 is greater than the number of transactions for churned users on app version 1.\n",
    "\n",
    "There are also other factors not part of the data that can be used for metric to check customer enagagment such as:\n",
    "\n",
    "*   Number of logins on the app\n",
    "*   Time spent online on the app\n",
    "*   Number of features clicked on per login on the app\n",
    "\n",
    "\n",
    "The metrics and techniques that I would use to assess the impact of the business actions includes:\n",
    "P-value of the test experiment- If the P-value is less than the alpha threshold set for the experiment that means the we can reject the null hypothesis and conclude the difference in the experiments is statistically significant.\n",
    "Note that alpha is the marginal threshold at which you are okay rejecting the null hypothesis and accepting the alternative hypothesis,also this doesn't prove that there is a direct relationship between the dependent and independent variables--just that we have enough evidence to the contrary to show that we can no longer believe that there is no relationship between them.\n",
    "\n",
    "p-value is the probability of observing a test statistic at least as large as the one observed, by random chance, assuming that the null hypothesis is true.\n",
    "\n",
    "Practical Signifcance tells us more about the tests/experiment we run, what is the size of the difference between the two groups used in our experiment?\n",
    "Effect size is used to quantify the size of the difference between two groups under observation and allows us to answer---- *How well does it work in a range of contexts?'.* \n",
    "Cohen’s d is one of the most common ways to measure effect size. As an effect size, Cohen's d is typically used to represent the magnitude of differences between two (or more) groups on a given variable, with larger values representing a greater differentiation between the two groups on that variable.\n",
    "\n"
   ]
  },
  {
   "cell_type": "markdown",
   "metadata": {
    "colab_type": "text",
    "id": "D4TzZEFU0ZYo"
   },
   "source": [
    "# FINAL DATA FILE"
   ]
  },
  {
   "cell_type": "code",
   "execution_count": 0,
   "metadata": {
    "colab": {},
    "colab_type": "code",
    "id": "C7Ky8Ewr0eVu"
   },
   "outputs": [],
   "source": [
    "users_table.to_csv(\"final_data.csv\", encoding='utf8')\n"
   ]
  }
 ],
 "metadata": {
  "colab": {
   "name": "Machine Learning.ipynb",
   "provenance": [],
   "toc_visible": true
  },
  "kernelspec": {
   "display_name": "Python 3",
   "language": "python",
   "name": "python3"
  },
  "language_info": {
   "codemirror_mode": {
    "name": "ipython",
    "version": 3
   },
   "file_extension": ".py",
   "mimetype": "text/x-python",
   "name": "python",
   "nbconvert_exporter": "python",
   "pygments_lexer": "ipython3",
   "version": "3.7.3"
  },
  "toc": {
   "base_numbering": 1,
   "nav_menu": {},
   "number_sections": true,
   "sideBar": true,
   "skip_h1_title": false,
   "title_cell": "Table of Contents",
   "title_sidebar": "Contents",
   "toc_cell": false,
   "toc_position": {},
   "toc_section_display": true,
   "toc_window_display": false
  }
 },
 "nbformat": 4,
 "nbformat_minor": 1
}
